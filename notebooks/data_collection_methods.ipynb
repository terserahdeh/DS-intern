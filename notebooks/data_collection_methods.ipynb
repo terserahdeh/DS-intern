{
  "cells": [
    {
      "cell_type": "markdown",
      "metadata": {},
      "source": [
        "\n",
        "\n",
        "---\n",
        "\n"
      ]
    },
    {
      "cell_type": "code",
      "execution_count": 1,
      "metadata": {
        "id": "kITtN3WYwJNP"
      },
      "outputs": [
        {
          "name": "stdout",
          "output_type": "stream",
          "text": [
            "Project has been created with this version of Pandas:  2.2.2  And with this version of Numpy:  1.26.4\n"
          ]
        }
      ],
      "source": [
        "from pathlib import Path\n",
        "\n",
        "import numpy as np\n",
        "import pandas as pd\n",
        "import matplotlib.pyplot as plt\n",
        "import seaborn as sns\n",
        "\n",
        "import warnings    \n",
        "warnings.filterwarnings(\"ignore\")\n",
        "\n",
        "print(\"Project has been created with this version of Pandas: \" ,pd. __version__,\" And with this version of Numpy: \",np. __version__)"
      ]
    },
    {
      "cell_type": "code",
      "execution_count": 2,
      "metadata": {
        "id": "2A3Cb4BtwNg_"
      },
      "outputs": [],
      "source": [
        "DATA_PATH = Path('../datasets')\n",
        "RAW_DATA_PATH = DATA_PATH / 'raw'\n",
        "PROCESSED_DATA_PATH = DATA_PATH / 'processed'\n",
        "\n",
        "RAW_FILE_PATH = RAW_DATA_PATH / 'LLCP2023.XPT'\n",
        "PROCESSED_FILE_PATH_PARQUET = PROCESSED_DATA_PATH / 'heart_converted.parquet'\n",
        "\n",
        "VAR_LIST_PATH = Path('../docs/vars_list_with_descriptions.txt')\n",
        "\n",
        "FINAL_FILE_NO_NANS_PATH = PROCESSED_DATA_PATH / 'heart_no_nans.csv'\n",
        "FINAL_FILE_WITH_NANS_PATH = PROCESSED_DATA_PATH / 'heart_with_nans.csv'\n",
        "FINAL_FILE_PREPROCESSING= PROCESSED_DATA_PATH / 'heart_preprocessing.csv'"
      ]
    },
    {
      "cell_type": "code",
      "execution_count": 3,
      "metadata": {
        "id": "_uOxkiQiGtkl"
      },
      "outputs": [],
      "source": [
        "def sas_converter(path: str, dest_path: str, file_format: str):\n",
        "    assert file_format in ['csv', 'parquet']\n",
        "\n",
        "    try:\n",
        "        df = pd.read_sas(path, encoding='utf-8')\n",
        "    except Exception as e:\n",
        "        print('Not a valid SAS file.')\n",
        "    else:\n",
        "        if file_format == 'csv':\n",
        "            df.to_csv(dest_path, index=False)\n",
        "        elif file_format == 'parquet':\n",
        "            df.to_parquet(dest_path, index=False)"
      ]
    },
    {
      "cell_type": "code",
      "execution_count": 4,
      "metadata": {
        "colab": {
          "base_uri": "https://localhost:8080/"
        },
        "id": "pQZQWsDKGwAG",
        "outputId": "1fb58074-8232-4d8e-b0f4-02cf07ec9348"
      },
      "outputs": [],
      "source": [
        "sas_converter(path=RAW_FILE_PATH, dest_path=PROCESSED_FILE_PATH_PARQUET, file_format='parquet')"
      ]
    },
    {
      "cell_type": "markdown",
      "metadata": {
        "id": "7lDlYybAGzII"
      },
      "source": [
        "\n",
        "\n",
        "------\n",
        "\n"
      ]
    },
    {
      "cell_type": "code",
      "execution_count": 5,
      "metadata": {
        "colab": {
          "base_uri": "https://localhost:8080/",
          "height": 298
        },
        "id": "XDPjWdtsGxaB",
        "outputId": "99ae2028-af35-4929-9797-fde6865911c7"
      },
      "outputs": [],
      "source": [
        "heart_df = pd.read_parquet(PROCESSED_FILE_PATH_PARQUET)"
      ]
    },
    {
      "cell_type": "code",
      "execution_count": 6,
      "metadata": {
        "id": "qDqkF-YoHBpO"
      },
      "outputs": [
        {
          "name": "stdout",
          "output_type": "stream",
          "text": [
            "<class 'pandas.core.frame.DataFrame'>\n",
            "RangeIndex: 433323 entries, 0 to 433322\n",
            "Columns: 350 entries, _STATE to _DRNKDRV\n",
            "dtypes: float64(345), object(5)\n",
            "memory usage: 1.1+ GB\n"
          ]
        }
      ],
      "source": [
        "heart_df.info()"
      ]
    },
    {
      "cell_type": "code",
      "execution_count": 7,
      "metadata": {
        "id": "ctyn9QyKG-7F"
      },
      "outputs": [
        {
          "data": {
            "application/vnd.microsoft.datawrangler.viewer.v0+json": {
              "columns": [
                {
                  "name": "index",
                  "rawType": "int64",
                  "type": "integer"
                },
                {
                  "name": "_STATE",
                  "rawType": "float64",
                  "type": "float"
                },
                {
                  "name": "FMONTH",
                  "rawType": "float64",
                  "type": "float"
                },
                {
                  "name": "IDATE",
                  "rawType": "object",
                  "type": "string"
                },
                {
                  "name": "IMONTH",
                  "rawType": "object",
                  "type": "string"
                },
                {
                  "name": "IDAY",
                  "rawType": "object",
                  "type": "string"
                },
                {
                  "name": "IYEAR",
                  "rawType": "object",
                  "type": "string"
                },
                {
                  "name": "DISPCODE",
                  "rawType": "float64",
                  "type": "float"
                },
                {
                  "name": "SEQNO",
                  "rawType": "object",
                  "type": "string"
                },
                {
                  "name": "_PSU",
                  "rawType": "float64",
                  "type": "float"
                },
                {
                  "name": "CTELENM1",
                  "rawType": "float64",
                  "type": "float"
                },
                {
                  "name": "PVTRESD1",
                  "rawType": "float64",
                  "type": "float"
                },
                {
                  "name": "COLGHOUS",
                  "rawType": "float64",
                  "type": "float"
                },
                {
                  "name": "STATERE1",
                  "rawType": "float64",
                  "type": "float"
                },
                {
                  "name": "CELPHON1",
                  "rawType": "float64",
                  "type": "float"
                },
                {
                  "name": "LADULT1",
                  "rawType": "float64",
                  "type": "float"
                },
                {
                  "name": "NUMADULT",
                  "rawType": "float64",
                  "type": "float"
                },
                {
                  "name": "RESPSLC1",
                  "rawType": "float64",
                  "type": "float"
                },
                {
                  "name": "LANDSEX2",
                  "rawType": "float64",
                  "type": "float"
                },
                {
                  "name": "LNDSXBRT",
                  "rawType": "float64",
                  "type": "float"
                },
                {
                  "name": "SAFETIME",
                  "rawType": "float64",
                  "type": "float"
                },
                {
                  "name": "CTELNUM1",
                  "rawType": "float64",
                  "type": "float"
                },
                {
                  "name": "CELLFON5",
                  "rawType": "float64",
                  "type": "float"
                },
                {
                  "name": "CADULT1",
                  "rawType": "float64",
                  "type": "float"
                },
                {
                  "name": "CELLSEX2",
                  "rawType": "float64",
                  "type": "float"
                },
                {
                  "name": "CELSXBRT",
                  "rawType": "float64",
                  "type": "float"
                },
                {
                  "name": "PVTRESD3",
                  "rawType": "float64",
                  "type": "float"
                },
                {
                  "name": "CCLGHOUS",
                  "rawType": "float64",
                  "type": "float"
                },
                {
                  "name": "CSTATE1",
                  "rawType": "float64",
                  "type": "float"
                },
                {
                  "name": "LANDLINE",
                  "rawType": "float64",
                  "type": "float"
                },
                {
                  "name": "HHADULT",
                  "rawType": "float64",
                  "type": "float"
                },
                {
                  "name": "SEXVAR",
                  "rawType": "float64",
                  "type": "float"
                },
                {
                  "name": "GENHLTH",
                  "rawType": "float64",
                  "type": "float"
                },
                {
                  "name": "PHYSHLTH",
                  "rawType": "float64",
                  "type": "float"
                },
                {
                  "name": "MENTHLTH",
                  "rawType": "float64",
                  "type": "float"
                },
                {
                  "name": "POORHLTH",
                  "rawType": "float64",
                  "type": "float"
                },
                {
                  "name": "PRIMINS1",
                  "rawType": "float64",
                  "type": "float"
                },
                {
                  "name": "PERSDOC3",
                  "rawType": "float64",
                  "type": "float"
                },
                {
                  "name": "MEDCOST1",
                  "rawType": "float64",
                  "type": "float"
                },
                {
                  "name": "CHECKUP1",
                  "rawType": "float64",
                  "type": "float"
                },
                {
                  "name": "EXERANY2",
                  "rawType": "float64",
                  "type": "float"
                },
                {
                  "name": "EXRACT12",
                  "rawType": "float64",
                  "type": "float"
                },
                {
                  "name": "EXEROFT1",
                  "rawType": "float64",
                  "type": "float"
                },
                {
                  "name": "EXERHMM1",
                  "rawType": "float64",
                  "type": "float"
                },
                {
                  "name": "EXRACT22",
                  "rawType": "float64",
                  "type": "float"
                },
                {
                  "name": "EXEROFT2",
                  "rawType": "float64",
                  "type": "float"
                },
                {
                  "name": "EXERHMM2",
                  "rawType": "float64",
                  "type": "float"
                },
                {
                  "name": "STRENGTH",
                  "rawType": "float64",
                  "type": "float"
                },
                {
                  "name": "BPHIGH6",
                  "rawType": "float64",
                  "type": "float"
                },
                {
                  "name": "BPMEDS1",
                  "rawType": "float64",
                  "type": "float"
                },
                {
                  "name": "CHOLCHK3",
                  "rawType": "float64",
                  "type": "float"
                },
                {
                  "name": "TOLDHI3",
                  "rawType": "float64",
                  "type": "float"
                },
                {
                  "name": "CHOLMED3",
                  "rawType": "float64",
                  "type": "float"
                },
                {
                  "name": "CVDINFR4",
                  "rawType": "float64",
                  "type": "float"
                },
                {
                  "name": "CVDCRHD4",
                  "rawType": "float64",
                  "type": "float"
                },
                {
                  "name": "CVDSTRK3",
                  "rawType": "float64",
                  "type": "float"
                },
                {
                  "name": "ASTHMA3",
                  "rawType": "float64",
                  "type": "float"
                },
                {
                  "name": "ASTHNOW",
                  "rawType": "float64",
                  "type": "float"
                },
                {
                  "name": "CHCSCNC1",
                  "rawType": "float64",
                  "type": "float"
                },
                {
                  "name": "CHCOCNC1",
                  "rawType": "float64",
                  "type": "float"
                },
                {
                  "name": "CHCCOPD3",
                  "rawType": "float64",
                  "type": "float"
                },
                {
                  "name": "ADDEPEV3",
                  "rawType": "float64",
                  "type": "float"
                },
                {
                  "name": "CHCKDNY2",
                  "rawType": "float64",
                  "type": "float"
                },
                {
                  "name": "HAVARTH4",
                  "rawType": "float64",
                  "type": "float"
                },
                {
                  "name": "DIABETE4",
                  "rawType": "float64",
                  "type": "float"
                },
                {
                  "name": "DIABAGE4",
                  "rawType": "float64",
                  "type": "float"
                },
                {
                  "name": "MARITAL",
                  "rawType": "float64",
                  "type": "float"
                },
                {
                  "name": "EDUCA",
                  "rawType": "float64",
                  "type": "float"
                },
                {
                  "name": "RENTHOM1",
                  "rawType": "float64",
                  "type": "float"
                },
                {
                  "name": "NUMHHOL4",
                  "rawType": "float64",
                  "type": "float"
                },
                {
                  "name": "NUMPHON4",
                  "rawType": "float64",
                  "type": "float"
                },
                {
                  "name": "CPDEMO1C",
                  "rawType": "float64",
                  "type": "float"
                },
                {
                  "name": "VETERAN3",
                  "rawType": "float64",
                  "type": "float"
                },
                {
                  "name": "EMPLOY1",
                  "rawType": "float64",
                  "type": "float"
                },
                {
                  "name": "CHILDREN",
                  "rawType": "float64",
                  "type": "float"
                },
                {
                  "name": "INCOME3",
                  "rawType": "float64",
                  "type": "float"
                },
                {
                  "name": "PREGNANT",
                  "rawType": "float64",
                  "type": "float"
                },
                {
                  "name": "WEIGHT2",
                  "rawType": "float64",
                  "type": "float"
                },
                {
                  "name": "HEIGHT3",
                  "rawType": "float64",
                  "type": "float"
                },
                {
                  "name": "DEAF",
                  "rawType": "float64",
                  "type": "float"
                },
                {
                  "name": "BLIND",
                  "rawType": "float64",
                  "type": "float"
                },
                {
                  "name": "DECIDE",
                  "rawType": "float64",
                  "type": "float"
                },
                {
                  "name": "DIFFWALK",
                  "rawType": "float64",
                  "type": "float"
                },
                {
                  "name": "DIFFDRES",
                  "rawType": "float64",
                  "type": "float"
                },
                {
                  "name": "DIFFALON",
                  "rawType": "float64",
                  "type": "float"
                },
                {
                  "name": "FALL12MN",
                  "rawType": "float64",
                  "type": "float"
                },
                {
                  "name": "FALLINJ5",
                  "rawType": "float64",
                  "type": "float"
                },
                {
                  "name": "SMOKE100",
                  "rawType": "float64",
                  "type": "float"
                },
                {
                  "name": "SMOKDAY2",
                  "rawType": "float64",
                  "type": "float"
                },
                {
                  "name": "USENOW3",
                  "rawType": "float64",
                  "type": "float"
                },
                {
                  "name": "ECIGNOW2",
                  "rawType": "float64",
                  "type": "float"
                },
                {
                  "name": "ALCDAY4",
                  "rawType": "float64",
                  "type": "float"
                },
                {
                  "name": "AVEDRNK3",
                  "rawType": "float64",
                  "type": "float"
                },
                {
                  "name": "DRNK3GE5",
                  "rawType": "float64",
                  "type": "float"
                },
                {
                  "name": "MAXDRNKS",
                  "rawType": "float64",
                  "type": "float"
                },
                {
                  "name": "FLUSHOT7",
                  "rawType": "float64",
                  "type": "float"
                },
                {
                  "name": "FLSHTMY3",
                  "rawType": "float64",
                  "type": "float"
                },
                {
                  "name": "PNEUVAC4",
                  "rawType": "float64",
                  "type": "float"
                },
                {
                  "name": "SHINGLE2",
                  "rawType": "float64",
                  "type": "float"
                },
                {
                  "name": "HIVTST7",
                  "rawType": "float64",
                  "type": "float"
                },
                {
                  "name": "HIVTSTD3",
                  "rawType": "float64",
                  "type": "float"
                },
                {
                  "name": "SEATBELT",
                  "rawType": "float64",
                  "type": "float"
                },
                {
                  "name": "DRNKDRI2",
                  "rawType": "float64",
                  "type": "float"
                },
                {
                  "name": "COVIDPO1",
                  "rawType": "float64",
                  "type": "float"
                },
                {
                  "name": "COVIDSM1",
                  "rawType": "float64",
                  "type": "float"
                },
                {
                  "name": "COVIDACT",
                  "rawType": "float64",
                  "type": "float"
                },
                {
                  "name": "PDIABTS1",
                  "rawType": "float64",
                  "type": "float"
                },
                {
                  "name": "PREDIAB2",
                  "rawType": "float64",
                  "type": "float"
                },
                {
                  "name": "DIABTYPE",
                  "rawType": "float64",
                  "type": "float"
                },
                {
                  "name": "INSULIN1",
                  "rawType": "float64",
                  "type": "float"
                },
                {
                  "name": "CHKHEMO3",
                  "rawType": "float64",
                  "type": "float"
                },
                {
                  "name": "EYEEXAM1",
                  "rawType": "float64",
                  "type": "float"
                },
                {
                  "name": "DIABEYE1",
                  "rawType": "float64",
                  "type": "float"
                },
                {
                  "name": "DIABEDU1",
                  "rawType": "float64",
                  "type": "float"
                },
                {
                  "name": "FEETSORE",
                  "rawType": "float64",
                  "type": "float"
                },
                {
                  "name": "ARTHEXER",
                  "rawType": "float64",
                  "type": "float"
                },
                {
                  "name": "ARTHEDU",
                  "rawType": "float64",
                  "type": "float"
                },
                {
                  "name": "LMTJOIN3",
                  "rawType": "float64",
                  "type": "float"
                },
                {
                  "name": "ARTHDIS2",
                  "rawType": "float64",
                  "type": "float"
                },
                {
                  "name": "JOINPAI2",
                  "rawType": "float64",
                  "type": "float"
                },
                {
                  "name": "LCSFIRST",
                  "rawType": "float64",
                  "type": "float"
                },
                {
                  "name": "LCSLAST",
                  "rawType": "float64",
                  "type": "float"
                },
                {
                  "name": "LCSNUMCG",
                  "rawType": "float64",
                  "type": "float"
                },
                {
                  "name": "LCSCTSC1",
                  "rawType": "float64",
                  "type": "float"
                },
                {
                  "name": "LCSSCNCR",
                  "rawType": "float64",
                  "type": "float"
                },
                {
                  "name": "LCSCTWHN",
                  "rawType": "float64",
                  "type": "float"
                },
                {
                  "name": "HADMAM",
                  "rawType": "float64",
                  "type": "float"
                },
                {
                  "name": "HOWLONG",
                  "rawType": "float64",
                  "type": "float"
                },
                {
                  "name": "CERVSCRN",
                  "rawType": "float64",
                  "type": "float"
                },
                {
                  "name": "CRVCLCNC",
                  "rawType": "float64",
                  "type": "float"
                },
                {
                  "name": "CRVCLPAP",
                  "rawType": "float64",
                  "type": "float"
                },
                {
                  "name": "CRVCLHPV",
                  "rawType": "float64",
                  "type": "float"
                },
                {
                  "name": "HADHYST2",
                  "rawType": "float64",
                  "type": "float"
                },
                {
                  "name": "PSATEST1",
                  "rawType": "float64",
                  "type": "float"
                },
                {
                  "name": "PSATIME1",
                  "rawType": "float64",
                  "type": "float"
                },
                {
                  "name": "PCPSARS2",
                  "rawType": "float64",
                  "type": "float"
                },
                {
                  "name": "PSASUGS1",
                  "rawType": "float64",
                  "type": "float"
                },
                {
                  "name": "PCSTALK2",
                  "rawType": "float64",
                  "type": "float"
                },
                {
                  "name": "HADSIGM4",
                  "rawType": "float64",
                  "type": "float"
                },
                {
                  "name": "COLNSIGM",
                  "rawType": "float64",
                  "type": "float"
                },
                {
                  "name": "COLNTES1",
                  "rawType": "float64",
                  "type": "float"
                },
                {
                  "name": "SIGMTES1",
                  "rawType": "float64",
                  "type": "float"
                },
                {
                  "name": "LASTSIG4",
                  "rawType": "float64",
                  "type": "float"
                },
                {
                  "name": "COLNCNCR",
                  "rawType": "float64",
                  "type": "float"
                },
                {
                  "name": "VIRCOLO1",
                  "rawType": "float64",
                  "type": "float"
                },
                {
                  "name": "VCLNTES2",
                  "rawType": "float64",
                  "type": "float"
                },
                {
                  "name": "SMALSTOL",
                  "rawType": "float64",
                  "type": "float"
                },
                {
                  "name": "STOLTEST",
                  "rawType": "float64",
                  "type": "float"
                },
                {
                  "name": "STOOLDN2",
                  "rawType": "float64",
                  "type": "float"
                },
                {
                  "name": "BLDSTFIT",
                  "rawType": "float64",
                  "type": "float"
                },
                {
                  "name": "SDNATES1",
                  "rawType": "float64",
                  "type": "float"
                },
                {
                  "name": "CNCRDIFF",
                  "rawType": "float64",
                  "type": "float"
                },
                {
                  "name": "CNCRAGE",
                  "rawType": "float64",
                  "type": "float"
                },
                {
                  "name": "CNCRTYP2",
                  "rawType": "float64",
                  "type": "float"
                },
                {
                  "name": "CSRVTRT3",
                  "rawType": "float64",
                  "type": "float"
                },
                {
                  "name": "CSRVDOC1",
                  "rawType": "float64",
                  "type": "float"
                },
                {
                  "name": "CSRVSUM",
                  "rawType": "float64",
                  "type": "float"
                },
                {
                  "name": "CSRVRTRN",
                  "rawType": "float64",
                  "type": "float"
                },
                {
                  "name": "CSRVINST",
                  "rawType": "float64",
                  "type": "float"
                },
                {
                  "name": "CSRVINSR",
                  "rawType": "float64",
                  "type": "float"
                },
                {
                  "name": "CSRVDEIN",
                  "rawType": "float64",
                  "type": "float"
                },
                {
                  "name": "CSRVCLIN",
                  "rawType": "float64",
                  "type": "float"
                },
                {
                  "name": "CSRVPAIN",
                  "rawType": "float64",
                  "type": "float"
                },
                {
                  "name": "CSRVCTL2",
                  "rawType": "float64",
                  "type": "float"
                },
                {
                  "name": "INDORTAN",
                  "rawType": "float64",
                  "type": "float"
                },
                {
                  "name": "NUMBURN3",
                  "rawType": "float64",
                  "type": "float"
                },
                {
                  "name": "SUNPRTCT",
                  "rawType": "float64",
                  "type": "float"
                },
                {
                  "name": "WKDAYOUT",
                  "rawType": "float64",
                  "type": "float"
                },
                {
                  "name": "WKENDOUT",
                  "rawType": "float64",
                  "type": "float"
                },
                {
                  "name": "CIMEMLO1",
                  "rawType": "float64",
                  "type": "float"
                },
                {
                  "name": "CDWORRY",
                  "rawType": "float64",
                  "type": "float"
                },
                {
                  "name": "CDDISCU1",
                  "rawType": "float64",
                  "type": "float"
                },
                {
                  "name": "CDHOUS1",
                  "rawType": "float64",
                  "type": "float"
                },
                {
                  "name": "CDSOCIA1",
                  "rawType": "float64",
                  "type": "float"
                },
                {
                  "name": "CAREGIV1",
                  "rawType": "float64",
                  "type": "float"
                },
                {
                  "name": "CRGVREL4",
                  "rawType": "float64",
                  "type": "float"
                },
                {
                  "name": "CRGVLNG1",
                  "rawType": "float64",
                  "type": "float"
                },
                {
                  "name": "CRGVHRS1",
                  "rawType": "float64",
                  "type": "float"
                },
                {
                  "name": "CRGVPRB3",
                  "rawType": "float64",
                  "type": "float"
                },
                {
                  "name": "CRGVALZD",
                  "rawType": "float64",
                  "type": "float"
                },
                {
                  "name": "CRGVPER1",
                  "rawType": "float64",
                  "type": "float"
                },
                {
                  "name": "CRGVHOU1",
                  "rawType": "float64",
                  "type": "float"
                },
                {
                  "name": "CRGVEXPT",
                  "rawType": "float64",
                  "type": "float"
                },
                {
                  "name": "LASTSMK2",
                  "rawType": "float64",
                  "type": "float"
                },
                {
                  "name": "STOPSMK2",
                  "rawType": "float64",
                  "type": "float"
                },
                {
                  "name": "MENTCIGS",
                  "rawType": "float64",
                  "type": "float"
                },
                {
                  "name": "MENTECIG",
                  "rawType": "float64",
                  "type": "float"
                },
                {
                  "name": "HEATTBCO",
                  "rawType": "float64",
                  "type": "float"
                },
                {
                  "name": "FIREARM5",
                  "rawType": "float64",
                  "type": "float"
                },
                {
                  "name": "GUNLOAD",
                  "rawType": "float64",
                  "type": "float"
                },
                {
                  "name": "LOADULK2",
                  "rawType": "float64",
                  "type": "float"
                },
                {
                  "name": "HASYMP1",
                  "rawType": "float64",
                  "type": "float"
                },
                {
                  "name": "HASYMP2",
                  "rawType": "float64",
                  "type": "float"
                },
                {
                  "name": "HASYMP3",
                  "rawType": "float64",
                  "type": "float"
                },
                {
                  "name": "HASYMP4",
                  "rawType": "float64",
                  "type": "float"
                },
                {
                  "name": "HASYMP5",
                  "rawType": "float64",
                  "type": "float"
                },
                {
                  "name": "HASYMP6",
                  "rawType": "float64",
                  "type": "float"
                },
                {
                  "name": "STRSYMP1",
                  "rawType": "float64",
                  "type": "float"
                },
                {
                  "name": "STRSYMP2",
                  "rawType": "float64",
                  "type": "float"
                },
                {
                  "name": "STRSYMP3",
                  "rawType": "float64",
                  "type": "float"
                },
                {
                  "name": "STRSYMP4",
                  "rawType": "float64",
                  "type": "float"
                },
                {
                  "name": "STRSYMP5",
                  "rawType": "float64",
                  "type": "float"
                },
                {
                  "name": "STRSYMP6",
                  "rawType": "float64",
                  "type": "float"
                },
                {
                  "name": "FIRSTAID",
                  "rawType": "float64",
                  "type": "float"
                },
                {
                  "name": "ASPIRIN",
                  "rawType": "float64",
                  "type": "float"
                },
                {
                  "name": "BIRTHSEX",
                  "rawType": "float64",
                  "type": "float"
                },
                {
                  "name": "SOMALE",
                  "rawType": "float64",
                  "type": "float"
                },
                {
                  "name": "SOFEMALE",
                  "rawType": "float64",
                  "type": "float"
                },
                {
                  "name": "TRNSGNDR",
                  "rawType": "float64",
                  "type": "float"
                },
                {
                  "name": "MARIJAN1",
                  "rawType": "float64",
                  "type": "float"
                },
                {
                  "name": "MARJSMOK",
                  "rawType": "float64",
                  "type": "float"
                },
                {
                  "name": "MARJEAT",
                  "rawType": "float64",
                  "type": "float"
                },
                {
                  "name": "MARJVAPE",
                  "rawType": "float64",
                  "type": "float"
                },
                {
                  "name": "MARJDAB",
                  "rawType": "float64",
                  "type": "float"
                },
                {
                  "name": "MARJOTHR",
                  "rawType": "float64",
                  "type": "float"
                },
                {
                  "name": "USEMRJN4",
                  "rawType": "float64",
                  "type": "float"
                },
                {
                  "name": "ACEDEPRS",
                  "rawType": "float64",
                  "type": "float"
                },
                {
                  "name": "ACEDRINK",
                  "rawType": "float64",
                  "type": "float"
                },
                {
                  "name": "ACEDRUGS",
                  "rawType": "float64",
                  "type": "float"
                },
                {
                  "name": "ACEPRISN",
                  "rawType": "float64",
                  "type": "float"
                },
                {
                  "name": "ACEDIVRC",
                  "rawType": "float64",
                  "type": "float"
                },
                {
                  "name": "ACEPUNCH",
                  "rawType": "float64",
                  "type": "float"
                },
                {
                  "name": "ACEHURT1",
                  "rawType": "float64",
                  "type": "float"
                },
                {
                  "name": "ACESWEAR",
                  "rawType": "float64",
                  "type": "float"
                },
                {
                  "name": "ACETOUCH",
                  "rawType": "float64",
                  "type": "float"
                },
                {
                  "name": "ACETTHEM",
                  "rawType": "float64",
                  "type": "float"
                },
                {
                  "name": "ACEHVSEX",
                  "rawType": "float64",
                  "type": "float"
                },
                {
                  "name": "ACEADSAF",
                  "rawType": "float64",
                  "type": "float"
                },
                {
                  "name": "ACEADNED",
                  "rawType": "float64",
                  "type": "float"
                },
                {
                  "name": "IMFVPLA4",
                  "rawType": "float64",
                  "type": "float"
                },
                {
                  "name": "HPVADVC4",
                  "rawType": "float64",
                  "type": "float"
                },
                {
                  "name": "HPVADSHT",
                  "rawType": "float64",
                  "type": "float"
                },
                {
                  "name": "TETANUS1",
                  "rawType": "float64",
                  "type": "float"
                },
                {
                  "name": "COVIDVA1",
                  "rawType": "float64",
                  "type": "float"
                },
                {
                  "name": "COVACGE1",
                  "rawType": "float64",
                  "type": "float"
                },
                {
                  "name": "COVIDNU2",
                  "rawType": "float64",
                  "type": "float"
                },
                {
                  "name": "LSATISFY",
                  "rawType": "float64",
                  "type": "float"
                },
                {
                  "name": "EMTSUPRT",
                  "rawType": "float64",
                  "type": "float"
                },
                {
                  "name": "SDLONELY",
                  "rawType": "float64",
                  "type": "float"
                },
                {
                  "name": "SDHEMPLY",
                  "rawType": "float64",
                  "type": "float"
                },
                {
                  "name": "FOODSTMP",
                  "rawType": "float64",
                  "type": "float"
                },
                {
                  "name": "SDHFOOD1",
                  "rawType": "float64",
                  "type": "float"
                },
                {
                  "name": "SDHBILLS",
                  "rawType": "float64",
                  "type": "float"
                },
                {
                  "name": "SDHUTILS",
                  "rawType": "float64",
                  "type": "float"
                },
                {
                  "name": "SDHTRNSP",
                  "rawType": "float64",
                  "type": "float"
                },
                {
                  "name": "SDHSTRE1",
                  "rawType": "float64",
                  "type": "float"
                },
                {
                  "name": "RRCLASS3",
                  "rawType": "float64",
                  "type": "float"
                },
                {
                  "name": "RRCOGNT2",
                  "rawType": "float64",
                  "type": "float"
                },
                {
                  "name": "RRTREAT",
                  "rawType": "float64",
                  "type": "float"
                },
                {
                  "name": "RRATWRK2",
                  "rawType": "float64",
                  "type": "float"
                },
                {
                  "name": "RRHCARE4",
                  "rawType": "float64",
                  "type": "float"
                },
                {
                  "name": "RRPHYSM2",
                  "rawType": "float64",
                  "type": "float"
                },
                {
                  "name": "RCSGEND1",
                  "rawType": "float64",
                  "type": "float"
                },
                {
                  "name": "RCSXBRTH",
                  "rawType": "float64",
                  "type": "float"
                },
                {
                  "name": "RCSRLTN2",
                  "rawType": "float64",
                  "type": "float"
                },
                {
                  "name": "CASTHDX2",
                  "rawType": "float64",
                  "type": "float"
                },
                {
                  "name": "CASTHNO2",
                  "rawType": "float64",
                  "type": "float"
                },
                {
                  "name": "QSTVER",
                  "rawType": "float64",
                  "type": "float"
                },
                {
                  "name": "QSTLANG",
                  "rawType": "float64",
                  "type": "float"
                },
                {
                  "name": "_METSTAT",
                  "rawType": "float64",
                  "type": "float"
                },
                {
                  "name": "_URBSTAT",
                  "rawType": "float64",
                  "type": "float"
                },
                {
                  "name": "MSCODE",
                  "rawType": "float64",
                  "type": "float"
                },
                {
                  "name": "_STSTR",
                  "rawType": "float64",
                  "type": "float"
                },
                {
                  "name": "_STRWT",
                  "rawType": "float64",
                  "type": "float"
                },
                {
                  "name": "_RAWRAKE",
                  "rawType": "float64",
                  "type": "float"
                },
                {
                  "name": "_WT2RAKE",
                  "rawType": "float64",
                  "type": "float"
                },
                {
                  "name": "_IMPRACE",
                  "rawType": "float64",
                  "type": "float"
                },
                {
                  "name": "_CHISPNC",
                  "rawType": "float64",
                  "type": "float"
                },
                {
                  "name": "_CRACE1",
                  "rawType": "float64",
                  "type": "float"
                },
                {
                  "name": "CAGEG",
                  "rawType": "float64",
                  "type": "float"
                },
                {
                  "name": "_CLLCPWT",
                  "rawType": "float64",
                  "type": "float"
                },
                {
                  "name": "_DUALUSE",
                  "rawType": "float64",
                  "type": "float"
                },
                {
                  "name": "_DUALCOR",
                  "rawType": "float64",
                  "type": "float"
                },
                {
                  "name": "_LLCPWT2",
                  "rawType": "float64",
                  "type": "float"
                },
                {
                  "name": "_LLCPWT",
                  "rawType": "float64",
                  "type": "float"
                },
                {
                  "name": "_RFHLTH",
                  "rawType": "float64",
                  "type": "float"
                },
                {
                  "name": "_PHYS14D",
                  "rawType": "float64",
                  "type": "float"
                },
                {
                  "name": "_MENT14D",
                  "rawType": "float64",
                  "type": "float"
                },
                {
                  "name": "_HLTHPL1",
                  "rawType": "float64",
                  "type": "float"
                },
                {
                  "name": "_HCVU653",
                  "rawType": "float64",
                  "type": "float"
                },
                {
                  "name": "_TOTINDA",
                  "rawType": "float64",
                  "type": "float"
                },
                {
                  "name": "METVL12_",
                  "rawType": "float64",
                  "type": "float"
                },
                {
                  "name": "METVL22_",
                  "rawType": "float64",
                  "type": "float"
                },
                {
                  "name": "MAXVO21_",
                  "rawType": "float64",
                  "type": "float"
                },
                {
                  "name": "FC601_",
                  "rawType": "float64",
                  "type": "float"
                },
                {
                  "name": "ACTIN13_",
                  "rawType": "float64",
                  "type": "float"
                },
                {
                  "name": "ACTIN23_",
                  "rawType": "float64",
                  "type": "float"
                },
                {
                  "name": "PADUR1_",
                  "rawType": "float64",
                  "type": "float"
                },
                {
                  "name": "PADUR2_",
                  "rawType": "float64",
                  "type": "float"
                },
                {
                  "name": "PAFREQ1_",
                  "rawType": "float64",
                  "type": "float"
                },
                {
                  "name": "PAFREQ2_",
                  "rawType": "float64",
                  "type": "float"
                },
                {
                  "name": "_MINAC12",
                  "rawType": "float64",
                  "type": "float"
                },
                {
                  "name": "_MINAC22",
                  "rawType": "float64",
                  "type": "float"
                },
                {
                  "name": "STRFREQ_",
                  "rawType": "float64",
                  "type": "float"
                },
                {
                  "name": "PAMISS3_",
                  "rawType": "float64",
                  "type": "float"
                },
                {
                  "name": "PAMIN13_",
                  "rawType": "float64",
                  "type": "float"
                },
                {
                  "name": "PAMIN23_",
                  "rawType": "float64",
                  "type": "float"
                },
                {
                  "name": "PA3MIN_",
                  "rawType": "float64",
                  "type": "float"
                },
                {
                  "name": "PAVIG13_",
                  "rawType": "float64",
                  "type": "float"
                },
                {
                  "name": "PAVIG23_",
                  "rawType": "float64",
                  "type": "float"
                },
                {
                  "name": "PA3VIGM_",
                  "rawType": "float64",
                  "type": "float"
                },
                {
                  "name": "_PACAT3",
                  "rawType": "float64",
                  "type": "float"
                },
                {
                  "name": "_PAINDX3",
                  "rawType": "float64",
                  "type": "float"
                },
                {
                  "name": "_PA150R4",
                  "rawType": "float64",
                  "type": "float"
                },
                {
                  "name": "_PA300R4",
                  "rawType": "float64",
                  "type": "float"
                },
                {
                  "name": "_PA30023",
                  "rawType": "float64",
                  "type": "float"
                },
                {
                  "name": "_PASTRNG",
                  "rawType": "float64",
                  "type": "float"
                },
                {
                  "name": "_PAREC3",
                  "rawType": "float64",
                  "type": "float"
                },
                {
                  "name": "_PASTAE3",
                  "rawType": "float64",
                  "type": "float"
                },
                {
                  "name": "_RFHYPE6",
                  "rawType": "float64",
                  "type": "float"
                },
                {
                  "name": "_CHOLCH3",
                  "rawType": "float64",
                  "type": "float"
                },
                {
                  "name": "_RFCHOL3",
                  "rawType": "float64",
                  "type": "float"
                },
                {
                  "name": "_MICHD",
                  "rawType": "float64",
                  "type": "float"
                },
                {
                  "name": "_LTASTH1",
                  "rawType": "float64",
                  "type": "float"
                },
                {
                  "name": "_CASTHM1",
                  "rawType": "float64",
                  "type": "float"
                },
                {
                  "name": "_ASTHMS1",
                  "rawType": "float64",
                  "type": "float"
                },
                {
                  "name": "_DRDXAR2",
                  "rawType": "float64",
                  "type": "float"
                },
                {
                  "name": "_MRACE1",
                  "rawType": "float64",
                  "type": "float"
                },
                {
                  "name": "_HISPANC",
                  "rawType": "float64",
                  "type": "float"
                },
                {
                  "name": "_RACE",
                  "rawType": "float64",
                  "type": "float"
                },
                {
                  "name": "_RACEG21",
                  "rawType": "float64",
                  "type": "float"
                },
                {
                  "name": "_RACEGR3",
                  "rawType": "float64",
                  "type": "float"
                },
                {
                  "name": "_RACEPRV",
                  "rawType": "float64",
                  "type": "float"
                },
                {
                  "name": "_SEX",
                  "rawType": "float64",
                  "type": "float"
                },
                {
                  "name": "_AGEG5YR",
                  "rawType": "float64",
                  "type": "float"
                },
                {
                  "name": "_AGE65YR",
                  "rawType": "float64",
                  "type": "float"
                },
                {
                  "name": "_AGE80",
                  "rawType": "float64",
                  "type": "float"
                },
                {
                  "name": "_AGE_G",
                  "rawType": "float64",
                  "type": "float"
                },
                {
                  "name": "HTIN4",
                  "rawType": "float64",
                  "type": "float"
                },
                {
                  "name": "HTM4",
                  "rawType": "float64",
                  "type": "float"
                },
                {
                  "name": "WTKG3",
                  "rawType": "float64",
                  "type": "float"
                },
                {
                  "name": "_BMI5",
                  "rawType": "float64",
                  "type": "float"
                },
                {
                  "name": "_BMI5CAT",
                  "rawType": "float64",
                  "type": "float"
                },
                {
                  "name": "_RFBMI5",
                  "rawType": "float64",
                  "type": "float"
                },
                {
                  "name": "_CHLDCNT",
                  "rawType": "float64",
                  "type": "float"
                },
                {
                  "name": "_EDUCAG",
                  "rawType": "float64",
                  "type": "float"
                },
                {
                  "name": "_INCOMG1",
                  "rawType": "float64",
                  "type": "float"
                },
                {
                  "name": "_SMOKER3",
                  "rawType": "float64",
                  "type": "float"
                },
                {
                  "name": "_RFSMOK3",
                  "rawType": "float64",
                  "type": "float"
                },
                {
                  "name": "_CURECI2",
                  "rawType": "float64",
                  "type": "float"
                },
                {
                  "name": "DRNKANY6",
                  "rawType": "float64",
                  "type": "float"
                },
                {
                  "name": "DROCDY4_",
                  "rawType": "float64",
                  "type": "float"
                },
                {
                  "name": "_RFBING6",
                  "rawType": "float64",
                  "type": "float"
                },
                {
                  "name": "_DRNKWK2",
                  "rawType": "float64",
                  "type": "float"
                },
                {
                  "name": "_RFDRHV8",
                  "rawType": "float64",
                  "type": "float"
                },
                {
                  "name": "_FLSHOT7",
                  "rawType": "float64",
                  "type": "float"
                },
                {
                  "name": "_PNEUMO3",
                  "rawType": "float64",
                  "type": "float"
                },
                {
                  "name": "_AIDTST4",
                  "rawType": "float64",
                  "type": "float"
                },
                {
                  "name": "_RFSEAT2",
                  "rawType": "float64",
                  "type": "float"
                },
                {
                  "name": "_RFSEAT3",
                  "rawType": "float64",
                  "type": "float"
                },
                {
                  "name": "_DRNKDRV",
                  "rawType": "float64",
                  "type": "float"
                }
              ],
              "conversionMethod": "pd.DataFrame",
              "ref": "fbd19fb4-ff23-4e22-862b-dd2f9383be6d",
              "rows": [
                [
                  "0",
                  "1.0",
                  "1.0",
                  "03012023",
                  "03",
                  "01",
                  "2023",
                  "1100.0",
                  "2023000001",
                  "2023000001.0",
                  "1.0",
                  "1.0",
                  null,
                  "1.0",
                  "2.0",
                  "1.0",
                  "2.0",
                  "1.0",
                  "2.0",
                  null,
                  null,
                  null,
                  null,
                  null,
                  null,
                  null,
                  null,
                  null,
                  null,
                  null,
                  null,
                  "2.0",
                  "2.0",
                  "88.0",
                  "88.0",
                  null,
                  "3.0",
                  "1.0",
                  "2.0",
                  "2.0",
                  "2.0",
                  null,
                  null,
                  null,
                  null,
                  null,
                  null,
                  "888.0",
                  "1.0",
                  "1.0",
                  "3.0",
                  "2.0",
                  "2.0",
                  "2.0",
                  "2.0",
                  "2.0",
                  "2.0",
                  null,
                  "2.0",
                  "2.0",
                  "2.0",
                  "2.0",
                  "2.0",
                  "2.0",
                  "1.0",
                  "57.0",
                  "1.0",
                  "5.0",
                  "1.0",
                  "2.0",
                  null,
                  "1.0",
                  "2.0",
                  "7.0",
                  "88.0",
                  "99.0",
                  null,
                  "172.0",
                  "503.0",
                  "2.0",
                  "2.0",
                  "2.0",
                  "1.0",
                  "2.0",
                  "2.0",
                  "88.0",
                  null,
                  "2.0",
                  null,
                  "3.0",
                  "1.0",
                  "888.0",
                  null,
                  null,
                  null,
                  "2.0",
                  null,
                  "2.0",
                  "2.0",
                  "2.0",
                  null,
                  "1.0",
                  null,
                  "2.0",
                  null,
                  null,
                  null,
                  null,
                  null,
                  null,
                  null,
                  null,
                  null,
                  null,
                  null,
                  null,
                  null,
                  null,
                  null,
                  null,
                  null,
                  null,
                  null,
                  null,
                  null,
                  null,
                  null,
                  null,
                  null,
                  null,
                  null,
                  null,
                  null,
                  null,
                  null,
                  null,
                  null,
                  null,
                  null,
                  null,
                  null,
                  null,
                  null,
                  null,
                  null,
                  null,
                  null,
                  null,
                  null,
                  null,
                  null,
                  null,
                  null,
                  null,
                  null,
                  null,
                  null,
                  null,
                  null,
                  null,
                  null,
                  null,
                  null,
                  null,
                  null,
                  null,
                  null,
                  null,
                  null,
                  "2.0",
                  null,
                  null,
                  null,
                  null,
                  null,
                  null,
                  null,
                  null,
                  null,
                  null,
                  null,
                  null,
                  null,
                  null,
                  null,
                  null,
                  null,
                  null,
                  null,
                  null,
                  null,
                  null,
                  null,
                  null,
                  null,
                  null,
                  null,
                  null,
                  null,
                  null,
                  null,
                  null,
                  null,
                  null,
                  null,
                  null,
                  null,
                  "2.0",
                  "4.0",
                  null,
                  null,
                  null,
                  null,
                  null,
                  null,
                  null,
                  null,
                  null,
                  null,
                  null,
                  null,
                  null,
                  null,
                  null,
                  null,
                  null,
                  null,
                  null,
                  null,
                  null,
                  null,
                  null,
                  null,
                  null,
                  null,
                  null,
                  "2.0",
                  "1.0",
                  "5.0",
                  "2.0",
                  "2.0",
                  "5.0",
                  "2.0",
                  "2.0",
                  "2.0",
                  "5.0",
                  null,
                  null,
                  null,
                  null,
                  null,
                  null,
                  null,
                  null,
                  null,
                  null,
                  null,
                  "10.0",
                  "1.0",
                  "1.0",
                  "1.0",
                  "1.0",
                  "11011.0",
                  "42.79158052954099",
                  "2.0",
                  "85.58316105908197",
                  "1.0",
                  "9.0",
                  null,
                  null,
                  null,
                  "1.0",
                  "0.5026388039915589",
                  "941.1639729563848",
                  "605.4278869590939",
                  "1.0",
                  "1.0",
                  "1.0",
                  "1.0",
                  "9.0",
                  "2.0",
                  null,
                  null,
                  "1839.9999999999998",
                  "315.0",
                  null,
                  null,
                  null,
                  null,
                  null,
                  null,
                  null,
                  null,
                  "5.397605346934028e-79",
                  "5.397605346934028e-79",
                  null,
                  null,
                  null,
                  null,
                  null,
                  null,
                  "4.0",
                  "2.0",
                  "3.0",
                  "3.0",
                  "2.0",
                  "2.0",
                  "4.0",
                  "2.0",
                  "2.0",
                  "1.0",
                  "1.0",
                  "2.0",
                  "1.0",
                  "1.0",
                  "3.0",
                  "2.0",
                  "1.0",
                  "2.0",
                  "1.0",
                  "1.0",
                  "1.0",
                  "1.0",
                  "2.0",
                  "13.0",
                  "2.0",
                  "80.0",
                  "6.0",
                  "63.0",
                  "160.0",
                  "7802.0",
                  "3047.0",
                  "4.0",
                  "2.0",
                  "1.0",
                  "3.0",
                  "9.0",
                  "4.0",
                  "1.0",
                  "1.0",
                  "2.0",
                  "5.397605346934028e-79",
                  "1.0",
                  "5.397605346934028e-79",
                  "1.0",
                  "2.0",
                  "2.0",
                  "2.0",
                  "1.0",
                  "1.0",
                  "9.0"
                ],
                [
                  "1",
                  "1.0",
                  "1.0",
                  "01062023",
                  "01",
                  "06",
                  "2023",
                  "1100.0",
                  "2023000002",
                  "2023000002.0",
                  "1.0",
                  "1.0",
                  null,
                  "1.0",
                  "2.0",
                  "1.0",
                  "1.0",
                  null,
                  "2.0",
                  null,
                  null,
                  null,
                  null,
                  null,
                  null,
                  null,
                  null,
                  null,
                  null,
                  null,
                  null,
                  "2.0",
                  "2.0",
                  "88.0",
                  "88.0",
                  null,
                  "3.0",
                  "1.0",
                  "2.0",
                  "2.0",
                  "1.0",
                  "1.0",
                  "106.0",
                  "30.0",
                  "88.0",
                  null,
                  null,
                  "888.0",
                  "1.0",
                  "2.0",
                  "2.0",
                  "1.0",
                  "1.0",
                  "2.0",
                  "2.0",
                  "2.0",
                  "2.0",
                  null,
                  "2.0",
                  "2.0",
                  "2.0",
                  "1.0",
                  "2.0",
                  "1.0",
                  "3.0",
                  null,
                  "2.0",
                  "5.0",
                  "1.0",
                  "2.0",
                  null,
                  "1.0",
                  "2.0",
                  "7.0",
                  "88.0",
                  "99.0",
                  null,
                  "132.0",
                  "409.0",
                  "1.0",
                  "2.0",
                  "2.0",
                  "2.0",
                  "2.0",
                  "2.0",
                  "88.0",
                  null,
                  "2.0",
                  null,
                  "3.0",
                  "1.0",
                  "888.0",
                  null,
                  null,
                  null,
                  "1.0",
                  "92023.0",
                  "1.0",
                  "2.0",
                  "2.0",
                  null,
                  "1.0",
                  null,
                  "2.0",
                  null,
                  null,
                  "2.0",
                  "3.0",
                  null,
                  null,
                  null,
                  null,
                  null,
                  null,
                  null,
                  null,
                  null,
                  null,
                  null,
                  null,
                  null,
                  null,
                  null,
                  null,
                  null,
                  null,
                  null,
                  null,
                  null,
                  null,
                  null,
                  null,
                  null,
                  null,
                  null,
                  null,
                  null,
                  null,
                  null,
                  null,
                  null,
                  null,
                  null,
                  null,
                  null,
                  null,
                  null,
                  null,
                  null,
                  null,
                  null,
                  null,
                  null,
                  null,
                  null,
                  null,
                  null,
                  null,
                  null,
                  null,
                  null,
                  null,
                  null,
                  null,
                  null,
                  null,
                  null,
                  null,
                  null,
                  "2.0",
                  null,
                  null,
                  null,
                  null,
                  null,
                  null,
                  null,
                  null,
                  null,
                  null,
                  null,
                  null,
                  null,
                  null,
                  null,
                  null,
                  null,
                  null,
                  null,
                  null,
                  null,
                  null,
                  null,
                  null,
                  null,
                  null,
                  null,
                  null,
                  null,
                  null,
                  null,
                  null,
                  null,
                  null,
                  null,
                  null,
                  null,
                  "2.0",
                  "4.0",
                  null,
                  null,
                  null,
                  null,
                  null,
                  null,
                  null,
                  null,
                  null,
                  null,
                  null,
                  null,
                  null,
                  null,
                  null,
                  null,
                  null,
                  null,
                  null,
                  null,
                  null,
                  null,
                  null,
                  null,
                  null,
                  null,
                  null,
                  "1.0",
                  "2.0",
                  "3.0",
                  "2.0",
                  "2.0",
                  "5.0",
                  "2.0",
                  "2.0",
                  "2.0",
                  "5.0",
                  null,
                  null,
                  null,
                  null,
                  null,
                  null,
                  null,
                  null,
                  null,
                  null,
                  null,
                  "10.0",
                  "1.0",
                  "1.0",
                  "1.0",
                  "1.0",
                  "11012.0",
                  "170.42939026100194",
                  "1.0",
                  "170.42939026100194",
                  "1.0",
                  "9.0",
                  null,
                  null,
                  null,
                  "1.0",
                  "0.5026388039915589",
                  "1874.2238550390298",
                  "1121.992704740093",
                  "1.0",
                  "1.0",
                  "1.0",
                  "1.0",
                  "9.0",
                  "1.0",
                  "35.0",
                  null,
                  "1803.0",
                  "309.0",
                  "2.0",
                  null,
                  "30.0",
                  null,
                  "6000.0",
                  null,
                  "180.0",
                  "5.397605346934028e-79",
                  "5.397605346934028e-79",
                  "1.0",
                  "360.0",
                  null,
                  "360.0",
                  "180.0",
                  null,
                  "180.0",
                  "1.0",
                  "1.0",
                  "1.0",
                  "1.0",
                  "1.0",
                  "2.0",
                  "2.0",
                  "2.0",
                  "2.0",
                  "1.0",
                  "2.0",
                  "2.0",
                  "1.0",
                  "1.0",
                  "3.0",
                  "1.0",
                  "1.0",
                  "2.0",
                  "1.0",
                  "1.0",
                  "1.0",
                  "1.0",
                  "2.0",
                  "13.0",
                  "2.0",
                  "80.0",
                  "6.0",
                  "57.0",
                  "145.0",
                  "5987.0",
                  "2856.0",
                  "3.0",
                  "2.0",
                  "1.0",
                  "3.0",
                  "9.0",
                  "4.0",
                  "1.0",
                  "1.0",
                  "2.0",
                  "5.397605346934028e-79",
                  "1.0",
                  "5.397605346934028e-79",
                  "1.0",
                  "1.0",
                  "1.0",
                  "2.0",
                  "1.0",
                  "1.0",
                  "9.0"
                ],
                [
                  "2",
                  "1.0",
                  "1.0",
                  "03082023",
                  "03",
                  "08",
                  "2023",
                  "1100.0",
                  "2023000003",
                  "2023000003.0",
                  "1.0",
                  "1.0",
                  null,
                  "1.0",
                  "2.0",
                  "1.0",
                  "1.0",
                  null,
                  "2.0",
                  null,
                  null,
                  null,
                  null,
                  null,
                  null,
                  null,
                  null,
                  null,
                  null,
                  null,
                  null,
                  "2.0",
                  "4.0",
                  "6.0",
                  "2.0",
                  "1.0",
                  "3.0",
                  "1.0",
                  "1.0",
                  "1.0",
                  "1.0",
                  "1.0",
                  "205.0",
                  "15.0",
                  "88.0",
                  null,
                  null,
                  "205.0",
                  "1.0",
                  "1.0",
                  "2.0",
                  "1.0",
                  "1.0",
                  "2.0",
                  "2.0",
                  "2.0",
                  "1.0",
                  "1.0",
                  "2.0",
                  "2.0",
                  "2.0",
                  "2.0",
                  "2.0",
                  "1.0",
                  "3.0",
                  null,
                  "3.0",
                  "4.0",
                  "2.0",
                  "2.0",
                  null,
                  "8.0",
                  "2.0",
                  "7.0",
                  "88.0",
                  "2.0",
                  null,
                  "130.0",
                  "504.0",
                  "7.0",
                  "1.0",
                  "1.0",
                  "1.0",
                  "2.0",
                  "2.0",
                  "88.0",
                  null,
                  "1.0",
                  "3.0",
                  "3.0",
                  "1.0",
                  "888.0",
                  null,
                  null,
                  null,
                  "1.0",
                  "112022.0",
                  "1.0",
                  "1.0",
                  "2.0",
                  null,
                  "1.0",
                  null,
                  "2.0",
                  null,
                  null,
                  "1.0",
                  "3.0",
                  null,
                  null,
                  null,
                  null,
                  null,
                  null,
                  null,
                  null,
                  null,
                  null,
                  null,
                  null,
                  null,
                  null,
                  null,
                  null,
                  null,
                  null,
                  null,
                  null,
                  null,
                  null,
                  null,
                  null,
                  null,
                  null,
                  null,
                  null,
                  null,
                  null,
                  null,
                  null,
                  null,
                  null,
                  null,
                  null,
                  null,
                  null,
                  null,
                  null,
                  null,
                  null,
                  null,
                  null,
                  null,
                  null,
                  null,
                  null,
                  null,
                  null,
                  null,
                  null,
                  null,
                  null,
                  null,
                  null,
                  null,
                  null,
                  null,
                  null,
                  null,
                  "1.0",
                  "2.0",
                  "1.0",
                  "2.0",
                  "2.0",
                  null,
                  null,
                  null,
                  null,
                  null,
                  null,
                  null,
                  null,
                  null,
                  "7.0",
                  null,
                  null,
                  null,
                  null,
                  null,
                  null,
                  null,
                  null,
                  null,
                  null,
                  null,
                  null,
                  null,
                  null,
                  null,
                  null,
                  null,
                  null,
                  null,
                  null,
                  null,
                  null,
                  null,
                  "2.0",
                  "4.0",
                  null,
                  null,
                  null,
                  null,
                  null,
                  null,
                  null,
                  null,
                  null,
                  null,
                  null,
                  null,
                  null,
                  null,
                  null,
                  null,
                  null,
                  null,
                  null,
                  null,
                  null,
                  null,
                  null,
                  null,
                  null,
                  null,
                  null,
                  "2.0",
                  "4.0",
                  "3.0",
                  "2.0",
                  "2.0",
                  "5.0",
                  "1.0",
                  "1.0",
                  "1.0",
                  "3.0",
                  null,
                  null,
                  null,
                  null,
                  null,
                  null,
                  null,
                  null,
                  null,
                  null,
                  null,
                  "10.0",
                  "1.0",
                  "1.0",
                  "1.0",
                  "3.0",
                  "11011.0",
                  "42.79158052954099",
                  "1.0",
                  "42.79158052954099",
                  "2.0",
                  "9.0",
                  null,
                  null,
                  null,
                  "9.0",
                  null,
                  "1151.603217961454",
                  "600.963308045503",
                  "2.0",
                  "2.0",
                  "2.0",
                  "1.0",
                  "9.0",
                  "1.0",
                  "35.0",
                  null,
                  "1322.0",
                  "227.0",
                  "2.0",
                  null,
                  "15.0",
                  null,
                  "1167.0",
                  null,
                  "18.0",
                  "5.397605346934028e-79",
                  "1167.0",
                  "1.0",
                  "36.0",
                  null,
                  "36.0",
                  "18.0",
                  null,
                  "18.0",
                  "9.0",
                  "9.0",
                  "9.0",
                  "9.0",
                  "9.0",
                  "2.0",
                  "9.0",
                  "9.0",
                  "2.0",
                  "1.0",
                  "2.0",
                  "2.0",
                  "2.0",
                  "2.0",
                  "1.0",
                  "1.0",
                  "2.0",
                  "2.0",
                  "2.0",
                  "2.0",
                  "2.0",
                  "2.0",
                  "2.0",
                  "13.0",
                  "2.0",
                  "80.0",
                  "6.0",
                  "64.0",
                  "163.0",
                  "5897.0",
                  "2231.0",
                  "2.0",
                  "1.0",
                  "1.0",
                  "2.0",
                  "1.0",
                  "3.0",
                  "1.0",
                  "1.0",
                  "2.0",
                  "5.397605346934028e-79",
                  "1.0",
                  "5.397605346934028e-79",
                  "1.0",
                  "1.0",
                  "1.0",
                  "2.0",
                  "1.0",
                  "1.0",
                  "9.0"
                ],
                [
                  "3",
                  "1.0",
                  "1.0",
                  "03062023",
                  "03",
                  "06",
                  "2023",
                  "1100.0",
                  "2023000004",
                  "2023000004.0",
                  "1.0",
                  "1.0",
                  null,
                  "1.0",
                  "2.0",
                  "1.0",
                  "2.0",
                  "1.0",
                  "2.0",
                  null,
                  null,
                  null,
                  null,
                  null,
                  null,
                  null,
                  null,
                  null,
                  null,
                  null,
                  null,
                  "2.0",
                  "2.0",
                  "2.0",
                  "88.0",
                  "88.0",
                  "3.0",
                  "1.0",
                  "2.0",
                  "3.0",
                  "1.0",
                  "1.0",
                  "103.0",
                  "30.0",
                  "88.0",
                  null,
                  null,
                  "888.0",
                  "3.0",
                  null,
                  "3.0",
                  "2.0",
                  "2.0",
                  "2.0",
                  "2.0",
                  "2.0",
                  "2.0",
                  null,
                  "1.0",
                  "1.0",
                  "2.0",
                  "1.0",
                  "2.0",
                  "1.0",
                  "3.0",
                  null,
                  "1.0",
                  "5.0",
                  "1.0",
                  "2.0",
                  null,
                  "1.0",
                  "2.0",
                  "7.0",
                  "88.0",
                  "99.0",
                  null,
                  "170.0",
                  "506.0",
                  "2.0",
                  "2.0",
                  "2.0",
                  "1.0",
                  "2.0",
                  "2.0",
                  "88.0",
                  null,
                  "2.0",
                  null,
                  "3.0",
                  "1.0",
                  "888.0",
                  null,
                  null,
                  null,
                  "1.0",
                  "102022.0",
                  "1.0",
                  "2.0",
                  "1.0",
                  "777777.0",
                  "1.0",
                  null,
                  "2.0",
                  null,
                  null,
                  "1.0",
                  "3.0",
                  null,
                  null,
                  null,
                  null,
                  null,
                  null,
                  null,
                  null,
                  null,
                  null,
                  null,
                  null,
                  null,
                  null,
                  null,
                  null,
                  null,
                  null,
                  null,
                  null,
                  null,
                  null,
                  null,
                  null,
                  null,
                  null,
                  null,
                  null,
                  null,
                  null,
                  null,
                  null,
                  null,
                  null,
                  null,
                  null,
                  null,
                  null,
                  null,
                  null,
                  null,
                  null,
                  null,
                  null,
                  null,
                  null,
                  null,
                  null,
                  null,
                  null,
                  null,
                  null,
                  null,
                  null,
                  null,
                  null,
                  null,
                  null,
                  null,
                  null,
                  null,
                  "2.0",
                  null,
                  null,
                  null,
                  null,
                  null,
                  null,
                  null,
                  null,
                  null,
                  null,
                  null,
                  null,
                  null,
                  null,
                  null,
                  null,
                  null,
                  null,
                  null,
                  null,
                  null,
                  null,
                  null,
                  null,
                  null,
                  null,
                  null,
                  null,
                  null,
                  null,
                  null,
                  null,
                  null,
                  null,
                  null,
                  null,
                  null,
                  "2.0",
                  "4.0",
                  null,
                  null,
                  null,
                  null,
                  null,
                  null,
                  null,
                  null,
                  null,
                  null,
                  null,
                  null,
                  null,
                  null,
                  null,
                  null,
                  null,
                  null,
                  null,
                  null,
                  null,
                  null,
                  null,
                  null,
                  null,
                  null,
                  null,
                  "1.0",
                  "1.0",
                  "3.0",
                  "2.0",
                  "2.0",
                  "5.0",
                  "2.0",
                  "2.0",
                  "2.0",
                  "5.0",
                  null,
                  null,
                  null,
                  null,
                  null,
                  null,
                  null,
                  null,
                  null,
                  null,
                  null,
                  "10.0",
                  "1.0",
                  "2.0",
                  "1.0",
                  "2.0",
                  "11011.0",
                  "42.79158052954099",
                  "2.0",
                  "85.58316105908197",
                  "1.0",
                  "9.0",
                  null,
                  null,
                  null,
                  "1.0",
                  "0.5026388039915589",
                  "941.1639729563848",
                  "605.4278869590939",
                  "1.0",
                  "2.0",
                  "1.0",
                  "1.0",
                  "9.0",
                  "1.0",
                  "35.0",
                  null,
                  "1914.0",
                  "328.0",
                  "2.0",
                  null,
                  "30.0",
                  null,
                  "3000.0",
                  null,
                  "90.0",
                  "5.397605346934028e-79",
                  "5.397605346934028e-79",
                  "1.0",
                  "180.0",
                  null,
                  "180.0",
                  "90.0",
                  null,
                  "90.0",
                  "9.0",
                  "1.0",
                  "1.0",
                  "9.0",
                  "9.0",
                  "2.0",
                  "2.0",
                  "2.0",
                  "1.0",
                  "1.0",
                  "1.0",
                  "2.0",
                  "1.0",
                  "1.0",
                  "3.0",
                  "1.0",
                  "1.0",
                  "2.0",
                  "1.0",
                  "1.0",
                  "1.0",
                  "1.0",
                  "2.0",
                  "12.0",
                  "2.0",
                  "78.0",
                  "6.0",
                  "66.0",
                  "168.0",
                  "7711.0",
                  "2744.0",
                  "3.0",
                  "2.0",
                  "1.0",
                  "3.0",
                  "9.0",
                  "4.0",
                  "1.0",
                  "1.0",
                  "2.0",
                  "5.397605346934028e-79",
                  "1.0",
                  "5.397605346934028e-79",
                  "1.0",
                  "1.0",
                  "1.0",
                  "1.0",
                  "1.0",
                  "1.0",
                  "9.0"
                ],
                [
                  "4",
                  "1.0",
                  "1.0",
                  "01062023",
                  "01",
                  "06",
                  "2023",
                  "1100.0",
                  "2023000005",
                  "2023000005.0",
                  "1.0",
                  "1.0",
                  null,
                  "1.0",
                  "2.0",
                  "1.0",
                  "1.0",
                  null,
                  "2.0",
                  null,
                  null,
                  null,
                  null,
                  null,
                  null,
                  null,
                  null,
                  null,
                  null,
                  null,
                  null,
                  "2.0",
                  "4.0",
                  "88.0",
                  "88.0",
                  null,
                  "3.0",
                  "1.0",
                  "2.0",
                  "1.0",
                  "1.0",
                  "1.0",
                  "102.0",
                  "45.0",
                  "8.0",
                  "107.0",
                  "100.0",
                  "888.0",
                  "1.0",
                  "1.0",
                  "2.0",
                  "2.0",
                  "2.0",
                  "2.0",
                  "2.0",
                  "2.0",
                  "2.0",
                  null,
                  "2.0",
                  "1.0",
                  "2.0",
                  "1.0",
                  "2.0",
                  "1.0",
                  "1.0",
                  "68.0",
                  "3.0",
                  "5.0",
                  "1.0",
                  "2.0",
                  null,
                  "3.0",
                  "2.0",
                  "8.0",
                  "88.0",
                  "7.0",
                  null,
                  "170.0",
                  "508.0",
                  "2.0",
                  "2.0",
                  "1.0",
                  "1.0",
                  "2.0",
                  "1.0",
                  "3.0",
                  "88.0",
                  "2.0",
                  null,
                  "2.0",
                  "1.0",
                  "202.0",
                  "1.0",
                  "88.0",
                  "1.0",
                  "2.0",
                  null,
                  "1.0",
                  "2.0",
                  "2.0",
                  null,
                  "1.0",
                  "88.0",
                  "2.0",
                  null,
                  null,
                  null,
                  null,
                  null,
                  null,
                  null,
                  null,
                  null,
                  null,
                  null,
                  null,
                  null,
                  null,
                  null,
                  null,
                  null,
                  null,
                  null,
                  null,
                  null,
                  null,
                  null,
                  null,
                  null,
                  null,
                  null,
                  null,
                  null,
                  null,
                  null,
                  null,
                  null,
                  null,
                  null,
                  null,
                  null,
                  null,
                  null,
                  null,
                  null,
                  null,
                  null,
                  null,
                  null,
                  null,
                  null,
                  null,
                  null,
                  null,
                  null,
                  null,
                  null,
                  null,
                  null,
                  null,
                  null,
                  null,
                  null,
                  null,
                  null,
                  null,
                  null,
                  null,
                  null,
                  "1.0",
                  "1.0",
                  "2.0",
                  "2.0",
                  "2.0",
                  null,
                  null,
                  null,
                  null,
                  null,
                  null,
                  null,
                  null,
                  null,
                  null,
                  null,
                  null,
                  null,
                  null,
                  null,
                  null,
                  null,
                  null,
                  null,
                  null,
                  null,
                  null,
                  null,
                  null,
                  null,
                  null,
                  null,
                  null,
                  null,
                  null,
                  null,
                  null,
                  null,
                  "2.0",
                  "4.0",
                  null,
                  null,
                  null,
                  null,
                  null,
                  null,
                  null,
                  null,
                  null,
                  null,
                  null,
                  null,
                  null,
                  null,
                  null,
                  null,
                  null,
                  null,
                  null,
                  null,
                  null,
                  null,
                  null,
                  null,
                  null,
                  null,
                  null,
                  "2.0",
                  "2.0",
                  "2.0",
                  "2.0",
                  "2.0",
                  "4.0",
                  "2.0",
                  "2.0",
                  "2.0",
                  "2.0",
                  null,
                  null,
                  null,
                  null,
                  null,
                  null,
                  null,
                  null,
                  null,
                  null,
                  null,
                  "10.0",
                  "1.0",
                  "1.0",
                  "1.0",
                  "5.0",
                  "11011.0",
                  "42.79158052954099",
                  "1.0",
                  "42.79158052954099",
                  "1.0",
                  "9.0",
                  null,
                  null,
                  null,
                  "1.0",
                  "0.5026388039915589",
                  "470.5819864781924",
                  "281.71104235552315",
                  "2.0",
                  "1.0",
                  "1.0",
                  "1.0",
                  "9.0",
                  "1.0",
                  "35.0",
                  "33.0",
                  "1988.0",
                  "341.0",
                  "2.0",
                  "1.0",
                  "45.0",
                  "60.0",
                  "2000.0",
                  "7000.0",
                  "90.0",
                  "420.0",
                  "5.397605346934028e-79",
                  "5.397605346934028e-79",
                  "180.0",
                  "420.0",
                  "600.0",
                  "90.0",
                  "5.397605346934028e-79",
                  "90.0",
                  "1.0",
                  "1.0",
                  "1.0",
                  "1.0",
                  "1.0",
                  "2.0",
                  "2.0",
                  "2.0",
                  "2.0",
                  "1.0",
                  "1.0",
                  "2.0",
                  "1.0",
                  "1.0",
                  "3.0",
                  "1.0",
                  "1.0",
                  "2.0",
                  "1.0",
                  "1.0",
                  "1.0",
                  "1.0",
                  "2.0",
                  "12.0",
                  "2.0",
                  "76.0",
                  "6.0",
                  "68.0",
                  "173.0",
                  "7711.0",
                  "2585.0",
                  "3.0",
                  "2.0",
                  "1.0",
                  "3.0",
                  "5.0",
                  "4.0",
                  "1.0",
                  "1.0",
                  "1.0",
                  "7.0",
                  "1.0",
                  "47.0",
                  "1.0",
                  "2.0",
                  "1.0",
                  "2.0",
                  "1.0",
                  "1.0",
                  "2.0"
                ]
              ],
              "shape": {
                "columns": 350,
                "rows": 5
              }
            },
            "text/html": [
              "<div>\n",
              "<style scoped>\n",
              "    .dataframe tbody tr th:only-of-type {\n",
              "        vertical-align: middle;\n",
              "    }\n",
              "\n",
              "    .dataframe tbody tr th {\n",
              "        vertical-align: top;\n",
              "    }\n",
              "\n",
              "    .dataframe thead th {\n",
              "        text-align: right;\n",
              "    }\n",
              "</style>\n",
              "<table border=\"1\" class=\"dataframe\">\n",
              "  <thead>\n",
              "    <tr style=\"text-align: right;\">\n",
              "      <th></th>\n",
              "      <th>_STATE</th>\n",
              "      <th>FMONTH</th>\n",
              "      <th>IDATE</th>\n",
              "      <th>IMONTH</th>\n",
              "      <th>IDAY</th>\n",
              "      <th>IYEAR</th>\n",
              "      <th>DISPCODE</th>\n",
              "      <th>SEQNO</th>\n",
              "      <th>_PSU</th>\n",
              "      <th>CTELENM1</th>\n",
              "      <th>...</th>\n",
              "      <th>DROCDY4_</th>\n",
              "      <th>_RFBING6</th>\n",
              "      <th>_DRNKWK2</th>\n",
              "      <th>_RFDRHV8</th>\n",
              "      <th>_FLSHOT7</th>\n",
              "      <th>_PNEUMO3</th>\n",
              "      <th>_AIDTST4</th>\n",
              "      <th>_RFSEAT2</th>\n",
              "      <th>_RFSEAT3</th>\n",
              "      <th>_DRNKDRV</th>\n",
              "    </tr>\n",
              "  </thead>\n",
              "  <tbody>\n",
              "    <tr>\n",
              "      <th>0</th>\n",
              "      <td>1.0</td>\n",
              "      <td>1.0</td>\n",
              "      <td>03012023</td>\n",
              "      <td>03</td>\n",
              "      <td>01</td>\n",
              "      <td>2023</td>\n",
              "      <td>1100.0</td>\n",
              "      <td>2023000001</td>\n",
              "      <td>2.023000e+09</td>\n",
              "      <td>1.0</td>\n",
              "      <td>...</td>\n",
              "      <td>5.397605e-79</td>\n",
              "      <td>1.0</td>\n",
              "      <td>5.397605e-79</td>\n",
              "      <td>1.0</td>\n",
              "      <td>2.0</td>\n",
              "      <td>2.0</td>\n",
              "      <td>2.0</td>\n",
              "      <td>1.0</td>\n",
              "      <td>1.0</td>\n",
              "      <td>9.0</td>\n",
              "    </tr>\n",
              "    <tr>\n",
              "      <th>1</th>\n",
              "      <td>1.0</td>\n",
              "      <td>1.0</td>\n",
              "      <td>01062023</td>\n",
              "      <td>01</td>\n",
              "      <td>06</td>\n",
              "      <td>2023</td>\n",
              "      <td>1100.0</td>\n",
              "      <td>2023000002</td>\n",
              "      <td>2.023000e+09</td>\n",
              "      <td>1.0</td>\n",
              "      <td>...</td>\n",
              "      <td>5.397605e-79</td>\n",
              "      <td>1.0</td>\n",
              "      <td>5.397605e-79</td>\n",
              "      <td>1.0</td>\n",
              "      <td>1.0</td>\n",
              "      <td>1.0</td>\n",
              "      <td>2.0</td>\n",
              "      <td>1.0</td>\n",
              "      <td>1.0</td>\n",
              "      <td>9.0</td>\n",
              "    </tr>\n",
              "    <tr>\n",
              "      <th>2</th>\n",
              "      <td>1.0</td>\n",
              "      <td>1.0</td>\n",
              "      <td>03082023</td>\n",
              "      <td>03</td>\n",
              "      <td>08</td>\n",
              "      <td>2023</td>\n",
              "      <td>1100.0</td>\n",
              "      <td>2023000003</td>\n",
              "      <td>2.023000e+09</td>\n",
              "      <td>1.0</td>\n",
              "      <td>...</td>\n",
              "      <td>5.397605e-79</td>\n",
              "      <td>1.0</td>\n",
              "      <td>5.397605e-79</td>\n",
              "      <td>1.0</td>\n",
              "      <td>1.0</td>\n",
              "      <td>1.0</td>\n",
              "      <td>2.0</td>\n",
              "      <td>1.0</td>\n",
              "      <td>1.0</td>\n",
              "      <td>9.0</td>\n",
              "    </tr>\n",
              "    <tr>\n",
              "      <th>3</th>\n",
              "      <td>1.0</td>\n",
              "      <td>1.0</td>\n",
              "      <td>03062023</td>\n",
              "      <td>03</td>\n",
              "      <td>06</td>\n",
              "      <td>2023</td>\n",
              "      <td>1100.0</td>\n",
              "      <td>2023000004</td>\n",
              "      <td>2.023000e+09</td>\n",
              "      <td>1.0</td>\n",
              "      <td>...</td>\n",
              "      <td>5.397605e-79</td>\n",
              "      <td>1.0</td>\n",
              "      <td>5.397605e-79</td>\n",
              "      <td>1.0</td>\n",
              "      <td>1.0</td>\n",
              "      <td>1.0</td>\n",
              "      <td>1.0</td>\n",
              "      <td>1.0</td>\n",
              "      <td>1.0</td>\n",
              "      <td>9.0</td>\n",
              "    </tr>\n",
              "    <tr>\n",
              "      <th>4</th>\n",
              "      <td>1.0</td>\n",
              "      <td>1.0</td>\n",
              "      <td>01062023</td>\n",
              "      <td>01</td>\n",
              "      <td>06</td>\n",
              "      <td>2023</td>\n",
              "      <td>1100.0</td>\n",
              "      <td>2023000005</td>\n",
              "      <td>2.023000e+09</td>\n",
              "      <td>1.0</td>\n",
              "      <td>...</td>\n",
              "      <td>7.000000e+00</td>\n",
              "      <td>1.0</td>\n",
              "      <td>4.700000e+01</td>\n",
              "      <td>1.0</td>\n",
              "      <td>2.0</td>\n",
              "      <td>1.0</td>\n",
              "      <td>2.0</td>\n",
              "      <td>1.0</td>\n",
              "      <td>1.0</td>\n",
              "      <td>2.0</td>\n",
              "    </tr>\n",
              "  </tbody>\n",
              "</table>\n",
              "<p>5 rows × 350 columns</p>\n",
              "</div>"
            ],
            "text/plain": [
              "   _STATE  FMONTH     IDATE IMONTH IDAY IYEAR  DISPCODE       SEQNO  \\\n",
              "0     1.0     1.0  03012023     03   01  2023    1100.0  2023000001   \n",
              "1     1.0     1.0  01062023     01   06  2023    1100.0  2023000002   \n",
              "2     1.0     1.0  03082023     03   08  2023    1100.0  2023000003   \n",
              "3     1.0     1.0  03062023     03   06  2023    1100.0  2023000004   \n",
              "4     1.0     1.0  01062023     01   06  2023    1100.0  2023000005   \n",
              "\n",
              "           _PSU  CTELENM1  ...      DROCDY4_  _RFBING6      _DRNKWK2  \\\n",
              "0  2.023000e+09       1.0  ...  5.397605e-79       1.0  5.397605e-79   \n",
              "1  2.023000e+09       1.0  ...  5.397605e-79       1.0  5.397605e-79   \n",
              "2  2.023000e+09       1.0  ...  5.397605e-79       1.0  5.397605e-79   \n",
              "3  2.023000e+09       1.0  ...  5.397605e-79       1.0  5.397605e-79   \n",
              "4  2.023000e+09       1.0  ...  7.000000e+00       1.0  4.700000e+01   \n",
              "\n",
              "   _RFDRHV8  _FLSHOT7  _PNEUMO3  _AIDTST4  _RFSEAT2  _RFSEAT3  _DRNKDRV  \n",
              "0       1.0       2.0       2.0       2.0       1.0       1.0       9.0  \n",
              "1       1.0       1.0       1.0       2.0       1.0       1.0       9.0  \n",
              "2       1.0       1.0       1.0       2.0       1.0       1.0       9.0  \n",
              "3       1.0       1.0       1.0       1.0       1.0       1.0       9.0  \n",
              "4       1.0       2.0       1.0       2.0       1.0       1.0       2.0  \n",
              "\n",
              "[5 rows x 350 columns]"
            ]
          },
          "execution_count": 7,
          "metadata": {},
          "output_type": "execute_result"
        }
      ],
      "source": [
        "heart_df.head()"
      ]
    },
    {
      "cell_type": "code",
      "execution_count": 8,
      "metadata": {
        "id": "vnt-thsfG3rc"
      },
      "outputs": [],
      "source": [
        "NEW_VAR_NAMES = [\n",
        "    \"State\",\n",
        "    \"Sex\",\n",
        "    \"GeneralHealth\",\n",
        "    \"PhysicalHealthDays\",\n",
        "    \"MentalHealthDays\",\n",
        "    \"LastCheckupTime\",\n",
        "    \"PhysicalActivities\",\n",
        "    'HighCholesterol',\n",
        "    'HighBloodPressure',\n",
        "    \"HadHeartAttack\",\n",
        "    \"HadAngina\",\n",
        "    \"HadStroke\",\n",
        "    \"HadAsthma\",\n",
        "    \"HadSkinCancer\",\n",
        "    \"HadCOPD\",\n",
        "    \"HadDepressiveDisorder\",\n",
        "    \"HadKidneyDisease\",\n",
        "    \"HadArthritis\",\n",
        "    \"HadDiabetes\",\n",
        "    \"DeafOrHardOfHearing\",\n",
        "    \"BlindOrVisionDifficulty\",\n",
        "    \"DifficultyConcentrating\",\n",
        "    \"DifficultyWalking\",\n",
        "    \"DifficultyDressingBathing\",\n",
        "    \"DifficultyErrands\",\n",
        "    \"SmokerStatus\",\n",
        "    \"ECigaretteUsage\",\n",
        "    \"ChestScan\",\n",
        "    \"RaceEthnicityCategory\",\n",
        "    \"AgeCategory\",\n",
        "    \"HeightInMeters\",\n",
        "    \"WeightInKilograms\",\n",
        "    \"BMI\",\n",
        "    \"AlcoholDrinkers\",\n",
        "    \"HIVTesting\",\n",
        "    \"FluVaxLast12\",\n",
        "    \"PneumoVaxEver\",\n",
        "    \"TetanusLast10Tdap\",\n",
        "    \"CovidPos\"\n",
        "]"
      ]
    },
    {
      "cell_type": "code",
      "execution_count": 9,
      "metadata": {
        "id": "cM2wsH2fG6i7"
      },
      "outputs": [],
      "source": [
        "var_list_df = pd.read_csv(VAR_LIST_PATH, sep=' - ', header=None, names=['Variable', 'Description'])"
      ]
    },
    {
      "cell_type": "code",
      "execution_count": 10,
      "metadata": {
        "id": "dSbp2fZvG8lf"
      },
      "outputs": [
        {
          "data": {
            "application/vnd.microsoft.datawrangler.viewer.v0+json": {
              "columns": [
                {
                  "name": "index",
                  "rawType": "int64",
                  "type": "integer"
                },
                {
                  "name": "Variable",
                  "rawType": "object",
                  "type": "string"
                },
                {
                  "name": "Description",
                  "rawType": "object",
                  "type": "string"
                }
              ],
              "conversionMethod": "pd.DataFrame",
              "ref": "20436f00-6872-4f7b-8932-a929e3aac3f9",
              "rows": [
                [
                  "0",
                  "_STATE",
                  "State FIPS Code"
                ],
                [
                  "1",
                  "SEXVAR",
                  "Sex of Respondent"
                ],
                [
                  "2",
                  "GENHLTH",
                  "Would you say that in general your health is:"
                ],
                [
                  "3",
                  "PHYSHLTH",
                  "Now thinking about your physical health, which includes physical illness and injury, for how many days during the past 30 days was your physical health not good?"
                ],
                [
                  "4",
                  "MENTHLTH",
                  "Now thinking about your mental health, which includes stress, depression, and problems with emotions, for how many days during the past 30 days was your mental health not good?"
                ],
                [
                  "5",
                  "CHECKUP1",
                  "About how long has it been since you last visited a doctor for a routine checkup?"
                ],
                [
                  "6",
                  "EXERANY2",
                  "During the past month, other than your regular job, did you participate in any physical activities or exercises such as running, calisthenics, golf, gardening, or walking for exercise?"
                ],
                [
                  "7",
                  "TOLDHI3",
                  "(Ever Told) Cholesterol Is High"
                ],
                [
                  "8",
                  "BPHIGH6",
                  "(Ever Told) Blood Pressure High"
                ],
                [
                  "9",
                  "CVDINFR4",
                  "(Ever told) you had a heart attack, also called a myocardial infarction?"
                ],
                [
                  "10",
                  "CVDCRHD4",
                  "(Ever told) (you had) angina or coronary heart disease?"
                ],
                [
                  "11",
                  "CVDSTRK3",
                  "(Ever told) (you had) a stroke."
                ],
                [
                  "12",
                  "ASTHMA3",
                  "(Ever told) (you had) asthma?"
                ],
                [
                  "13",
                  "CHCSCNC1",
                  "(Ever told) (you had) skin cancer that is not melanoma?"
                ],
                [
                  "14",
                  "CHCCOPD3",
                  "(Ever told) (you had) C.O.P.D. (chronic obstructive pulmonary disease), emphysema or chronic bronchitis?"
                ],
                [
                  "15",
                  "ADDEPEV3",
                  "(Ever told) (you had) a depressive disorder (including depression, major depression, dysthymia, or minor depression)?"
                ],
                [
                  "16",
                  "CHCKDNY2",
                  "Not including kidney stones, bladder infection or incontinence, were you ever told you had kidney disease?"
                ],
                [
                  "17",
                  "HAVARTH4",
                  "(Ever told) (you had) some form of arthritis, rheumatoid arthritis, gout, lupus, or fibromyalgia?  (Arthritis diagnoses include: rheumatism, polymyalgia rheumatica; osteoarthritis (not osteporosis); tendonitis, bursitis, bunion, tennis elbow; carpal tunnel syndrome, tarsal tunnel syndrome; joint infection, etc.)"
                ],
                [
                  "18",
                  "DIABETE4",
                  "(Ever told) (you had) diabetes?"
                ],
                [
                  "19",
                  "DEAF",
                  "Are you deaf or do you have serious difficulty hearing?"
                ],
                [
                  "20",
                  "BLIND",
                  "Are you blind or do you have serious difficulty seeing, even when wearing glasses?"
                ],
                [
                  "21",
                  "DECIDE",
                  "Because of a physical, mental, or emotional condition, do you have serious difficulty concentrating, remembering, or making decisions?"
                ],
                [
                  "22",
                  "DIFFWALK",
                  "Do you have serious difficulty walking or climbing stairs?"
                ],
                [
                  "23",
                  "DIFFDRES",
                  "Do you have difficulty dressing or bathing?"
                ],
                [
                  "24",
                  "DIFFALON",
                  "Because of a physical, mental, or emotional condition, do you have difficulty doing errands alone such as visiting a doctor´s office or shopping?"
                ],
                [
                  "25",
                  "_SMOKER3",
                  "Four-level smoker status:  Everyday smoker, Someday smoker, Former smoker, Non-smoker"
                ],
                [
                  "26",
                  "ECIGNOW2",
                  "Would you say you have never used e-cigarettes or other electronic vaping products in your entire life or now use them every day, use them some days, or used them in the past but do not currently use them at all?"
                ],
                [
                  "27",
                  "LCSCTSC1",
                  "Have you ever had a CT or CAT scan of your chest area?"
                ],
                [
                  "28",
                  "_RACEGR3",
                  "Five-level race/ethnicity category"
                ],
                [
                  "29",
                  "_AGEG5YR",
                  "Fourteen-level age category"
                ],
                [
                  "30",
                  "HTM4",
                  "Reported height in meters"
                ],
                [
                  "31",
                  "WTKG3",
                  "Reported weight in kilograms"
                ],
                [
                  "32",
                  "_BMI5",
                  "Body Mass Index (BMI)"
                ],
                [
                  "33",
                  "DRNKANY6",
                  "Adults who reported having had at least one drink of alcohol in the past 30 days."
                ],
                [
                  "34",
                  "_AIDTST4",
                  "Adults who have ever been tested for HIV"
                ],
                [
                  "35",
                  "FLUSHOT7",
                  "During the past 12 months, have you had either flu vaccine that was sprayed in your nose or flu shot injected into your arm?"
                ],
                [
                  "36",
                  "PNEUVAC4",
                  "Have you ever had a pneumonia shot also known as a pneumococcal vaccine?"
                ],
                [
                  "37",
                  "TETANUS1",
                  "Have you received a tetanus shot in the past 10 years? Was this Tdap, the tetanus shot that also has pertussis or whooping cough vaccine?"
                ],
                [
                  "38",
                  "COVIDPO1",
                  "Has a doctor, nurse, or other health professional ever told you that you tested positive for COVID 19?"
                ]
              ],
              "shape": {
                "columns": 2,
                "rows": 39
              }
            },
            "text/html": [
              "<div>\n",
              "<style scoped>\n",
              "    .dataframe tbody tr th:only-of-type {\n",
              "        vertical-align: middle;\n",
              "    }\n",
              "\n",
              "    .dataframe tbody tr th {\n",
              "        vertical-align: top;\n",
              "    }\n",
              "\n",
              "    .dataframe thead th {\n",
              "        text-align: right;\n",
              "    }\n",
              "</style>\n",
              "<table border=\"1\" class=\"dataframe\">\n",
              "  <thead>\n",
              "    <tr style=\"text-align: right;\">\n",
              "      <th></th>\n",
              "      <th>Variable</th>\n",
              "      <th>Description</th>\n",
              "    </tr>\n",
              "  </thead>\n",
              "  <tbody>\n",
              "    <tr>\n",
              "      <th>0</th>\n",
              "      <td>_STATE</td>\n",
              "      <td>State FIPS Code</td>\n",
              "    </tr>\n",
              "    <tr>\n",
              "      <th>1</th>\n",
              "      <td>SEXVAR</td>\n",
              "      <td>Sex of Respondent</td>\n",
              "    </tr>\n",
              "    <tr>\n",
              "      <th>2</th>\n",
              "      <td>GENHLTH</td>\n",
              "      <td>Would you say that in general your health is:</td>\n",
              "    </tr>\n",
              "    <tr>\n",
              "      <th>3</th>\n",
              "      <td>PHYSHLTH</td>\n",
              "      <td>Now thinking about your physical health, which...</td>\n",
              "    </tr>\n",
              "    <tr>\n",
              "      <th>4</th>\n",
              "      <td>MENTHLTH</td>\n",
              "      <td>Now thinking about your mental health, which i...</td>\n",
              "    </tr>\n",
              "    <tr>\n",
              "      <th>5</th>\n",
              "      <td>CHECKUP1</td>\n",
              "      <td>About how long has it been since you last visi...</td>\n",
              "    </tr>\n",
              "    <tr>\n",
              "      <th>6</th>\n",
              "      <td>EXERANY2</td>\n",
              "      <td>During the past month, other than your regular...</td>\n",
              "    </tr>\n",
              "    <tr>\n",
              "      <th>7</th>\n",
              "      <td>TOLDHI3</td>\n",
              "      <td>(Ever Told) Cholesterol Is High</td>\n",
              "    </tr>\n",
              "    <tr>\n",
              "      <th>8</th>\n",
              "      <td>BPHIGH6</td>\n",
              "      <td>(Ever Told) Blood Pressure High</td>\n",
              "    </tr>\n",
              "    <tr>\n",
              "      <th>9</th>\n",
              "      <td>CVDINFR4</td>\n",
              "      <td>(Ever told) you had a heart attack, also calle...</td>\n",
              "    </tr>\n",
              "    <tr>\n",
              "      <th>10</th>\n",
              "      <td>CVDCRHD4</td>\n",
              "      <td>(Ever told) (you had) angina or coronary heart...</td>\n",
              "    </tr>\n",
              "    <tr>\n",
              "      <th>11</th>\n",
              "      <td>CVDSTRK3</td>\n",
              "      <td>(Ever told) (you had) a stroke.</td>\n",
              "    </tr>\n",
              "    <tr>\n",
              "      <th>12</th>\n",
              "      <td>ASTHMA3</td>\n",
              "      <td>(Ever told) (you had) asthma?</td>\n",
              "    </tr>\n",
              "    <tr>\n",
              "      <th>13</th>\n",
              "      <td>CHCSCNC1</td>\n",
              "      <td>(Ever told) (you had) skin cancer that is not ...</td>\n",
              "    </tr>\n",
              "    <tr>\n",
              "      <th>14</th>\n",
              "      <td>CHCCOPD3</td>\n",
              "      <td>(Ever told) (you had) C.O.P.D. (chronic obstru...</td>\n",
              "    </tr>\n",
              "    <tr>\n",
              "      <th>15</th>\n",
              "      <td>ADDEPEV3</td>\n",
              "      <td>(Ever told) (you had) a depressive disorder (i...</td>\n",
              "    </tr>\n",
              "    <tr>\n",
              "      <th>16</th>\n",
              "      <td>CHCKDNY2</td>\n",
              "      <td>Not including kidney stones, bladder infection...</td>\n",
              "    </tr>\n",
              "    <tr>\n",
              "      <th>17</th>\n",
              "      <td>HAVARTH4</td>\n",
              "      <td>(Ever told) (you had) some form of arthritis, ...</td>\n",
              "    </tr>\n",
              "    <tr>\n",
              "      <th>18</th>\n",
              "      <td>DIABETE4</td>\n",
              "      <td>(Ever told) (you had) diabetes?</td>\n",
              "    </tr>\n",
              "    <tr>\n",
              "      <th>19</th>\n",
              "      <td>DEAF</td>\n",
              "      <td>Are you deaf or do you have serious difficulty...</td>\n",
              "    </tr>\n",
              "    <tr>\n",
              "      <th>20</th>\n",
              "      <td>BLIND</td>\n",
              "      <td>Are you blind or do you have serious difficult...</td>\n",
              "    </tr>\n",
              "    <tr>\n",
              "      <th>21</th>\n",
              "      <td>DECIDE</td>\n",
              "      <td>Because of a physical, mental, or emotional co...</td>\n",
              "    </tr>\n",
              "    <tr>\n",
              "      <th>22</th>\n",
              "      <td>DIFFWALK</td>\n",
              "      <td>Do you have serious difficulty walking or clim...</td>\n",
              "    </tr>\n",
              "    <tr>\n",
              "      <th>23</th>\n",
              "      <td>DIFFDRES</td>\n",
              "      <td>Do you have difficulty dressing or bathing?</td>\n",
              "    </tr>\n",
              "    <tr>\n",
              "      <th>24</th>\n",
              "      <td>DIFFALON</td>\n",
              "      <td>Because of a physical, mental, or emotional co...</td>\n",
              "    </tr>\n",
              "    <tr>\n",
              "      <th>25</th>\n",
              "      <td>_SMOKER3</td>\n",
              "      <td>Four-level smoker status:  Everyday smoker, So...</td>\n",
              "    </tr>\n",
              "    <tr>\n",
              "      <th>26</th>\n",
              "      <td>ECIGNOW2</td>\n",
              "      <td>Would you say you have never used e-cigarettes...</td>\n",
              "    </tr>\n",
              "    <tr>\n",
              "      <th>27</th>\n",
              "      <td>LCSCTSC1</td>\n",
              "      <td>Have you ever had a CT or CAT scan of your che...</td>\n",
              "    </tr>\n",
              "    <tr>\n",
              "      <th>28</th>\n",
              "      <td>_RACEGR3</td>\n",
              "      <td>Five-level race/ethnicity category</td>\n",
              "    </tr>\n",
              "    <tr>\n",
              "      <th>29</th>\n",
              "      <td>_AGEG5YR</td>\n",
              "      <td>Fourteen-level age category</td>\n",
              "    </tr>\n",
              "    <tr>\n",
              "      <th>30</th>\n",
              "      <td>HTM4</td>\n",
              "      <td>Reported height in meters</td>\n",
              "    </tr>\n",
              "    <tr>\n",
              "      <th>31</th>\n",
              "      <td>WTKG3</td>\n",
              "      <td>Reported weight in kilograms</td>\n",
              "    </tr>\n",
              "    <tr>\n",
              "      <th>32</th>\n",
              "      <td>_BMI5</td>\n",
              "      <td>Body Mass Index (BMI)</td>\n",
              "    </tr>\n",
              "    <tr>\n",
              "      <th>33</th>\n",
              "      <td>DRNKANY6</td>\n",
              "      <td>Adults who reported having had at least one dr...</td>\n",
              "    </tr>\n",
              "    <tr>\n",
              "      <th>34</th>\n",
              "      <td>_AIDTST4</td>\n",
              "      <td>Adults who have ever been tested for HIV</td>\n",
              "    </tr>\n",
              "    <tr>\n",
              "      <th>35</th>\n",
              "      <td>FLUSHOT7</td>\n",
              "      <td>During the past 12 months, have you had either...</td>\n",
              "    </tr>\n",
              "    <tr>\n",
              "      <th>36</th>\n",
              "      <td>PNEUVAC4</td>\n",
              "      <td>Have you ever had a pneumonia shot also known ...</td>\n",
              "    </tr>\n",
              "    <tr>\n",
              "      <th>37</th>\n",
              "      <td>TETANUS1</td>\n",
              "      <td>Have you received a tetanus shot in the past 1...</td>\n",
              "    </tr>\n",
              "    <tr>\n",
              "      <th>38</th>\n",
              "      <td>COVIDPO1</td>\n",
              "      <td>Has a doctor, nurse, or other health professio...</td>\n",
              "    </tr>\n",
              "  </tbody>\n",
              "</table>\n",
              "</div>"
            ],
            "text/plain": [
              "    Variable                                        Description\n",
              "0     _STATE                                    State FIPS Code\n",
              "1     SEXVAR                                  Sex of Respondent\n",
              "2    GENHLTH      Would you say that in general your health is:\n",
              "3   PHYSHLTH  Now thinking about your physical health, which...\n",
              "4   MENTHLTH  Now thinking about your mental health, which i...\n",
              "5   CHECKUP1  About how long has it been since you last visi...\n",
              "6   EXERANY2  During the past month, other than your regular...\n",
              "7    TOLDHI3                    (Ever Told) Cholesterol Is High\n",
              "8    BPHIGH6                    (Ever Told) Blood Pressure High\n",
              "9   CVDINFR4  (Ever told) you had a heart attack, also calle...\n",
              "10  CVDCRHD4  (Ever told) (you had) angina or coronary heart...\n",
              "11  CVDSTRK3                    (Ever told) (you had) a stroke.\n",
              "12   ASTHMA3                      (Ever told) (you had) asthma?\n",
              "13  CHCSCNC1  (Ever told) (you had) skin cancer that is not ...\n",
              "14  CHCCOPD3  (Ever told) (you had) C.O.P.D. (chronic obstru...\n",
              "15  ADDEPEV3  (Ever told) (you had) a depressive disorder (i...\n",
              "16  CHCKDNY2  Not including kidney stones, bladder infection...\n",
              "17  HAVARTH4  (Ever told) (you had) some form of arthritis, ...\n",
              "18  DIABETE4                    (Ever told) (you had) diabetes?\n",
              "19      DEAF  Are you deaf or do you have serious difficulty...\n",
              "20     BLIND  Are you blind or do you have serious difficult...\n",
              "21    DECIDE  Because of a physical, mental, or emotional co...\n",
              "22  DIFFWALK  Do you have serious difficulty walking or clim...\n",
              "23  DIFFDRES        Do you have difficulty dressing or bathing?\n",
              "24  DIFFALON  Because of a physical, mental, or emotional co...\n",
              "25  _SMOKER3  Four-level smoker status:  Everyday smoker, So...\n",
              "26  ECIGNOW2  Would you say you have never used e-cigarettes...\n",
              "27  LCSCTSC1  Have you ever had a CT or CAT scan of your che...\n",
              "28  _RACEGR3                 Five-level race/ethnicity category\n",
              "29  _AGEG5YR                        Fourteen-level age category\n",
              "30      HTM4                          Reported height in meters\n",
              "31     WTKG3                       Reported weight in kilograms\n",
              "32     _BMI5                              Body Mass Index (BMI)\n",
              "33  DRNKANY6  Adults who reported having had at least one dr...\n",
              "34  _AIDTST4           Adults who have ever been tested for HIV\n",
              "35  FLUSHOT7  During the past 12 months, have you had either...\n",
              "36  PNEUVAC4  Have you ever had a pneumonia shot also known ...\n",
              "37  TETANUS1  Have you received a tetanus shot in the past 1...\n",
              "38  COVIDPO1  Has a doctor, nurse, or other health professio..."
            ]
          },
          "execution_count": 10,
          "metadata": {},
          "output_type": "execute_result"
        }
      ],
      "source": [
        "var_list_df"
      ]
    },
    {
      "cell_type": "code",
      "execution_count": 11,
      "metadata": {
        "id": "Nc3HPCb8HFgD"
      },
      "outputs": [],
      "source": [
        "var_list = var_list_df['Variable'].to_numpy()"
      ]
    },
    {
      "cell_type": "code",
      "execution_count": 12,
      "metadata": {
        "id": "ZTURaBunHLvt"
      },
      "outputs": [
        {
          "data": {
            "text/plain": [
              "array(['_STATE', 'SEXVAR', 'GENHLTH', 'PHYSHLTH', 'MENTHLTH', 'CHECKUP1',\n",
              "       'EXERANY2', 'TOLDHI3', 'BPHIGH6', 'CVDINFR4', 'CVDCRHD4',\n",
              "       'CVDSTRK3', 'ASTHMA3', 'CHCSCNC1', 'CHCCOPD3', 'ADDEPEV3',\n",
              "       'CHCKDNY2', 'HAVARTH4', 'DIABETE4', 'DEAF', 'BLIND', 'DECIDE',\n",
              "       'DIFFWALK', 'DIFFDRES', 'DIFFALON', '_SMOKER3', 'ECIGNOW2',\n",
              "       'LCSCTSC1', '_RACEGR3', '_AGEG5YR', 'HTM4', 'WTKG3', '_BMI5',\n",
              "       'DRNKANY6', '_AIDTST4', 'FLUSHOT7', 'PNEUVAC4', 'TETANUS1',\n",
              "       'COVIDPO1'], dtype=object)"
            ]
          },
          "execution_count": 12,
          "metadata": {},
          "output_type": "execute_result"
        }
      ],
      "source": [
        "var_list"
      ]
    },
    {
      "cell_type": "code",
      "execution_count": 13,
      "metadata": {
        "id": "iA38nvZqHNDe"
      },
      "outputs": [],
      "source": [
        "heart_df = heart_df[var_list]"
      ]
    },
    {
      "cell_type": "code",
      "execution_count": 14,
      "metadata": {
        "id": "wxAmAf-SHOag"
      },
      "outputs": [],
      "source": [
        "heart_df.columns = NEW_VAR_NAMES"
      ]
    },
    {
      "cell_type": "code",
      "execution_count": 15,
      "metadata": {
        "id": "dH1Y01ktHQNv"
      },
      "outputs": [],
      "source": [
        "STATE = {\n",
        "    1: \"Alabama\",\n",
        "    2: \"Alaska\",\n",
        "    4: \"Arizona\",\n",
        "    5: \"Arkansas\",\n",
        "    6: \"California\",\n",
        "    8: \"Colorado\",\n",
        "    9: \"Connecticut\",\n",
        "    10: \"Delaware\",\n",
        "    11: \"District of Columbia\",\n",
        "    12: \"Florida\",\n",
        "    13: \"Georgia\",\n",
        "    15: \"Hawaii\",\n",
        "    16: \"Idaho\",\n",
        "    17: \"Illinois\",\n",
        "    18: \"Indiana\",\n",
        "    19: \"Iowa\",\n",
        "    20: \"Kansas\",\n",
        "    21: \"Kentucky\",\n",
        "    22: \"Louisiana\",\n",
        "    23: \"Maine\",\n",
        "    24: \"Maryland\",\n",
        "    25: \"Massachusetts\",\n",
        "    26: \"Michigan\",\n",
        "    27: \"Minnesota\",\n",
        "    28: \"Mississippi\",\n",
        "    29: \"Missouri\",\n",
        "    30: \"Montana\",\n",
        "    31: \"Nebraska\",\n",
        "    32: \"Nevada\",\n",
        "    33: \"New Hampshire\",\n",
        "    34: \"New Jersey\",\n",
        "    35: \"New Mexico\",\n",
        "    36: \"New York\",\n",
        "    37: \"North Carolina\",\n",
        "    38: \"North Dakota\",\n",
        "    39: \"Ohio\",\n",
        "    40: \"Oklahoma\",\n",
        "    41: \"Oregon\",\n",
        "    42: \"Pennsylvania\",\n",
        "    44: \"Rhode Island\",\n",
        "    45: \"South Carolina\",\n",
        "    46: \"South Dakota\",\n",
        "    47: \"Tennessee\",\n",
        "    48: \"Texas\",\n",
        "    49: \"Utah\",\n",
        "    50: \"Vermont\",\n",
        "    51: \"Virginia\",\n",
        "    53: \"Washington\",\n",
        "    54: \"West Virginia\",\n",
        "    55: \"Wisconsin\",\n",
        "    56: \"Wyoming\",\n",
        "    66: \"Guam\",\n",
        "    72: \"Puerto Rico\",\n",
        "    78: \"Virgin Islands\"\n",
        "}\n",
        "\n",
        "SEX = {1: 'Male', 2: 'Female'}\n",
        "\n",
        "GEN_HEALTH = {\n",
        "    1: \"Excellent\",\n",
        "    2: \"Very good\",\n",
        "    3: \"Good\",\n",
        "    4: \"Fair\",\n",
        "    5: \"Poor\"\n",
        "}\n",
        "\n",
        "PHYS_MEN_HEALTH = {77: np.nan,\n",
        "               88: 0,\n",
        "               99: np.nan\n",
        "                  }\n",
        "\n",
        "BLOOD_PRESSURE = {\n",
        "    1: \"Yes\",\n",
        "    2: \"Yes, but female told only during pregnancy\",\n",
        "    3: \"No\",\n",
        "    4: \"No, pre-hypertension or borderline high blood pressure\"\n",
        "}\n",
        "\n",
        "LAST_CHECKUP = {\n",
        "    1: \"Within past year (anytime less than 12 months ago)\",\n",
        "    2: \"Within past 2 years (1 year but less than 2 years ago)\",\n",
        "    3: \"Within past 5 years (2 years but less than 5 years ago)\",\n",
        "    4: \"5 or more years ago\"\n",
        "}\n",
        "\n",
        "YES_NO_QUESTIONS = {1: 'Yes', 2: 'No'}\n",
        "\n",
        "DIABETES = {\n",
        "    1: \"Yes\",\n",
        "    2: \"Yes, but only during pregnancy (female)\",\n",
        "    3: \"No\",\n",
        "    4: \"No, pre-diabetes or borderline diabetes\",\n",
        "}\n",
        "\n",
        "SMOKER_STATUS = {\n",
        "    1: \"Current smoker - now smokes every day\",\n",
        "    2: \"Current smoker - now smokes some days\",\n",
        "    3: \"Former smoker\",\n",
        "    4: \"Never smoked\"\n",
        "}\n",
        "\n",
        "ECIGARETTES = {\n",
        "    1: \"Never used e-cigarettes in my entire life\",\n",
        "    2: \"Use them every day\",\n",
        "    3: \"Use them some days\",\n",
        "    4: \"Not at all (right now)\"\n",
        "}\n",
        "\n",
        "RACE = {\n",
        "    1: \"White only, Non-Hispanic\",\n",
        "    2: \"Black only, Non-Hispanic\",\n",
        "    3: \"Other race only, Non-Hispanic\",\n",
        "    4: \"Multiracial, Non-Hispanic\",\n",
        "    5: \"Hispanic\"\n",
        "}\n",
        "\n",
        "AGE_CATEGORY = {\n",
        "    1: \"Age 18 to 24\",\n",
        "    2: \"Age 25 to 29\",\n",
        "    3: \"Age 30 to 34\",\n",
        "    4: \"Age 35 to 39\",\n",
        "    5: \"Age 40 to 44\",\n",
        "    6: \"Age 45 to 49\",\n",
        "    7: \"Age 50 to 54\",\n",
        "    8: \"Age 55 to 59\",\n",
        "    9: \"Age 60 to 64\",\n",
        "    10: \"Age 65 to 69\",\n",
        "    11: \"Age 70 to 74\",\n",
        "    12: \"Age 75 to 79\",\n",
        "    13: \"Age 80 or older\"\n",
        "}\n",
        "\n",
        "TETANUS = {\n",
        "    1: \"Yes, received Tdap\",\n",
        "    2: \"Yes, received tetanus shot, but not Tdap\",\n",
        "    3: \"Yes, received tetanus shot but not sure what type\",\n",
        "    4: \"No, did not receive any tetanus shot in the past 10 years\",\n",
        "}\n",
        "\n",
        "COVID = {\n",
        "    1: \"Yes\",\n",
        "    2: \"No\",\n",
        "    3: \"Tested positive using home test without a health professional\"\n",
        "}"
      ]
    },
    {
      "cell_type": "code",
      "execution_count": 16,
      "metadata": {
        "id": "ac-CMQULHTZV"
      },
      "outputs": [],
      "source": [
        "heart_copy_df = heart_df.copy()"
      ]
    },
    {
      "cell_type": "code",
      "execution_count": 17,
      "metadata": {
        "id": "ZhcXzhq0HU9T"
      },
      "outputs": [],
      "source": [
        "heart_copy_df['State'] = heart_copy_df['State'].map(STATE)\n",
        "heart_copy_df['Sex'] = heart_copy_df['Sex'].map(SEX)\n",
        "heart_copy_df['GeneralHealth'] = heart_copy_df['GeneralHealth'].map(GEN_HEALTH)\n",
        "heart_copy_df['PhysicalHealthDays'] = heart_copy_df['PhysicalHealthDays'].replace(PHYS_MEN_HEALTH)\n",
        "heart_copy_df['MentalHealthDays'] = heart_copy_df['MentalHealthDays'].replace(PHYS_MEN_HEALTH)\n",
        "heart_copy_df['LastCheckupTime'] = heart_copy_df['LastCheckupTime'].map(LAST_CHECKUP)\n",
        "heart_copy_df['PhysicalActivities'] = heart_copy_df['PhysicalActivities'].map(YES_NO_QUESTIONS)\n",
        "heart_copy_df['HighCholesterol'] = heart_copy_df['HighCholesterol'].map(YES_NO_QUESTIONS)\n",
        "heart_copy_df['HighBloodPressure'] = heart_copy_df['HighBloodPressure'].map(BLOOD_PRESSURE)\n",
        "heart_copy_df['HadAngina'] = heart_copy_df['HadAngina'].map(YES_NO_QUESTIONS)\n",
        "heart_copy_df['HadStroke'] = heart_copy_df['HadStroke'].map(YES_NO_QUESTIONS)\n",
        "heart_copy_df['HadAsthma'] = heart_copy_df['HadAsthma'].map(YES_NO_QUESTIONS)\n",
        "heart_copy_df['HadSkinCancer'] = heart_copy_df['HadSkinCancer'].map(YES_NO_QUESTIONS)\n",
        "heart_copy_df['HadCOPD'] = heart_copy_df['HadCOPD'].map(YES_NO_QUESTIONS)\n",
        "heart_copy_df['HadDepressiveDisorder'] = heart_copy_df['HadDepressiveDisorder'].map(YES_NO_QUESTIONS)\n",
        "heart_copy_df['HadKidneyDisease'] = heart_copy_df['HadKidneyDisease'].map(YES_NO_QUESTIONS)\n",
        "heart_copy_df['HadArthritis'] = heart_copy_df['HadArthritis'].map(YES_NO_QUESTIONS)\n",
        "heart_copy_df['HadDiabetes'] = heart_copy_df['HadDiabetes'].map(DIABETES)\n",
        "heart_copy_df['DeafOrHardOfHearing'] = heart_copy_df['DeafOrHardOfHearing'].map(YES_NO_QUESTIONS)\n",
        "heart_copy_df['BlindOrVisionDifficulty'] = heart_copy_df['BlindOrVisionDifficulty'].map(YES_NO_QUESTIONS)\n",
        "heart_copy_df['DifficultyConcentrating'] = heart_copy_df['DifficultyConcentrating'].map(YES_NO_QUESTIONS)\n",
        "heart_copy_df['DifficultyWalking'] = heart_copy_df['DifficultyWalking'].map(YES_NO_QUESTIONS)\n",
        "heart_copy_df['DifficultyDressingBathing'] = heart_copy_df['DifficultyDressingBathing'].map(YES_NO_QUESTIONS)\n",
        "heart_copy_df['DifficultyErrands'] = heart_copy_df['DifficultyErrands'].map(YES_NO_QUESTIONS)\n",
        "heart_copy_df['SmokerStatus'] = heart_copy_df['SmokerStatus'].map(SMOKER_STATUS)\n",
        "heart_copy_df['ECigaretteUsage'] = heart_copy_df['ECigaretteUsage'].map(ECIGARETTES)\n",
        "heart_copy_df['ChestScan'] = heart_copy_df['ChestScan'].map(YES_NO_QUESTIONS)\n",
        "heart_copy_df['RaceEthnicityCategory'] = heart_copy_df['RaceEthnicityCategory'].map(RACE)\n",
        "heart_copy_df['AgeCategory'] = heart_copy_df['AgeCategory'].map(AGE_CATEGORY)\n",
        "heart_copy_df['HeightInMeters'] = heart_copy_df['HeightInMeters'] / 100\n",
        "heart_copy_df['WeightInKilograms'] = heart_copy_df['WeightInKilograms'] / 100\n",
        "heart_copy_df['BMI'] = heart_copy_df['BMI'] / 100\n",
        "heart_copy_df['AlcoholDrinkers'] = heart_copy_df['AlcoholDrinkers'].map(YES_NO_QUESTIONS)\n",
        "heart_copy_df['HIVTesting'] = heart_copy_df['HIVTesting'].map(YES_NO_QUESTIONS)\n",
        "heart_copy_df['FluVaxLast12'] = heart_copy_df['FluVaxLast12'].map(YES_NO_QUESTIONS)\n",
        "heart_copy_df['PneumoVaxEver'] = heart_copy_df['PneumoVaxEver'].map(YES_NO_QUESTIONS)\n",
        "heart_copy_df['TetanusLast10Tdap'] = heart_copy_df['TetanusLast10Tdap'].map(TETANUS)\n",
        "heart_copy_df['CovidPos'] = heart_copy_df['CovidPos'].map(COVID)\n",
        "heart_copy_df['HadHeartAttack'] = heart_copy_df['HadHeartAttack'].map(YES_NO_QUESTIONS)"
      ]
    },
    {
      "cell_type": "code",
      "execution_count": 18,
      "metadata": {
        "id": "1WXVUyNWHXGW"
      },
      "outputs": [],
      "source": [
        "def describe_df(df: pd.DataFrame):\n",
        "    print(f\"The dataset contains {df.shape[1]} columns and {len(df)} rows\")\n",
        "\n",
        "    for col in df.columns:\n",
        "        col_dtype = df[col].dtype\n",
        "\n",
        "        print(f\"\\nColumn: {col} ({col_dtype})\")\n",
        "        if col_dtype == 'object':\n",
        "            print(f\"--- Percentage of NaNs: {df[col].isna().sum() / len(df[col]) * 100}\")\n",
        "            print(f\"--- Unique values:\\n {df[col].unique()}\")\n",
        "        else:\n",
        "            print(f\"--- Summary statistics:\\n {df[col].describe()}\")"
      ]
    },
    {
      "cell_type": "code",
      "execution_count": 19,
      "metadata": {
        "id": "pHtJQeUhHaMh"
      },
      "outputs": [
        {
          "name": "stdout",
          "output_type": "stream",
          "text": [
            "The dataset contains 39 columns and 433323 rows\n",
            "\n",
            "Column: State (object)\n",
            "--- Percentage of NaNs: 0.0\n",
            "--- Unique values:\n",
            " ['Alabama' 'Alaska' 'Arizona' 'Arkansas' 'California' 'Colorado'\n",
            " 'Connecticut' 'Delaware' 'District of Columbia' 'Florida' 'Georgia'\n",
            " 'Hawaii' 'Idaho' 'Illinois' 'Indiana' 'Iowa' 'Kansas' 'Louisiana' 'Maine'\n",
            " 'Maryland' 'Massachusetts' 'Michigan' 'Minnesota' 'Mississippi'\n",
            " 'Missouri' 'Montana' 'Nebraska' 'Nevada' 'New Hampshire' 'New Jersey'\n",
            " 'New Mexico' 'New York' 'North Carolina' 'North Dakota' 'Ohio' 'Oklahoma'\n",
            " 'Oregon' 'Rhode Island' 'South Carolina' 'South Dakota' 'Tennessee'\n",
            " 'Texas' 'Utah' 'Vermont' 'Virginia' 'Washington' 'West Virginia'\n",
            " 'Wisconsin' 'Wyoming' 'Guam' 'Puerto Rico' 'Virgin Islands']\n",
            "\n",
            "Column: Sex (object)\n",
            "--- Percentage of NaNs: 0.0\n",
            "--- Unique values:\n",
            " ['Female' 'Male']\n",
            "\n",
            "Column: GeneralHealth (object)\n",
            "--- Percentage of NaNs: 0.2912377141301062\n",
            "--- Unique values:\n",
            " ['Very good' 'Fair' 'Good' 'Poor' 'Excellent' nan]\n",
            "\n",
            "Column: PhysicalHealthDays (float64)\n",
            "--- Summary statistics:\n",
            " count    422538.000000\n",
            "mean          4.482591\n",
            "std           8.827409\n",
            "min           0.000000\n",
            "25%           0.000000\n",
            "50%           0.000000\n",
            "75%           4.000000\n",
            "max          30.000000\n",
            "Name: PhysicalHealthDays, dtype: float64\n",
            "\n",
            "Column: MentalHealthDays (float64)\n",
            "--- Summary statistics:\n",
            " count    425215.000000\n",
            "mean          4.358383\n",
            "std           8.320868\n",
            "min           0.000000\n",
            "25%           0.000000\n",
            "50%           0.000000\n",
            "75%           5.000000\n",
            "max          30.000000\n",
            "Name: MentalHealthDays, dtype: float64\n",
            "\n",
            "Column: LastCheckupTime (object)\n",
            "--- Percentage of NaNs: 1.9680469303498778\n",
            "--- Unique values:\n",
            " ['Within past 2 years (1 year but less than 2 years ago)'\n",
            " 'Within past year (anytime less than 12 months ago)'\n",
            " 'Within past 5 years (2 years but less than 5 years ago)' nan\n",
            " '5 or more years ago']\n",
            "\n",
            "Column: PhysicalActivities (object)\n",
            "--- Percentage of NaNs: 0.28869919205765676\n",
            "--- Unique values:\n",
            " ['No' 'Yes' nan]\n",
            "\n",
            "Column: HighCholesterol (object)\n",
            "--- Percentage of NaNs: 12.711995439891258\n",
            "--- Unique values:\n",
            " ['No' 'Yes' nan]\n",
            "\n",
            "Column: HighBloodPressure (object)\n",
            "--- Percentage of NaNs: 0.4428567142754943\n",
            "--- Unique values:\n",
            " ['Yes' 'No' 'Yes, but female told only during pregnancy'\n",
            " 'No, pre-hypertension or borderline high blood pressure' nan]\n",
            "\n",
            "Column: HadHeartAttack (object)\n",
            "--- Percentage of NaNs: 0.5926295165500101\n",
            "--- Unique values:\n",
            " ['No' 'Yes' nan]\n",
            "\n",
            "Column: HadAngina (object)\n",
            "--- Percentage of NaNs: 0.9764078989575905\n",
            "--- Unique values:\n",
            " ['No' 'Yes' nan]\n",
            "\n",
            "Column: HadStroke (object)\n",
            "--- Percentage of NaNs: 0.3401619577082223\n",
            "--- Unique values:\n",
            " ['No' 'Yes' nan]\n",
            "\n",
            "Column: HadAsthma (object)\n",
            "--- Percentage of NaNs: 0.39254782229422397\n",
            "--- Unique values:\n",
            " ['No' 'Yes' nan]\n",
            "\n",
            "Column: HadSkinCancer (object)\n",
            "--- Percentage of NaNs: 0.6761699702069819\n",
            "--- Unique values:\n",
            " ['No' 'Yes' nan]\n",
            "\n",
            "Column: HadCOPD (object)\n",
            "--- Percentage of NaNs: 0.4767806001527729\n",
            "--- Unique values:\n",
            " ['No' 'Yes' nan]\n",
            "\n",
            "Column: HadDepressiveDisorder (object)\n",
            "--- Percentage of NaNs: 0.5970142364933317\n",
            "--- Unique values:\n",
            " ['No' 'Yes' nan]\n",
            "\n",
            "Column: HadKidneyDisease (object)\n",
            "--- Percentage of NaNs: 0.43662579646130023\n",
            "--- Unique values:\n",
            " ['No' 'Yes' nan]\n",
            "\n",
            "Column: HadArthritis (object)\n",
            "--- Percentage of NaNs: 0.5907833186791377\n",
            "--- Unique values:\n",
            " ['No' 'Yes' nan]\n",
            "\n",
            "Column: HadDiabetes (object)\n",
            "--- Percentage of NaNs: 0.22708233811729356\n",
            "--- Unique values:\n",
            " ['Yes' 'No' 'Yes, but only during pregnancy (female)' nan\n",
            " 'No, pre-diabetes or borderline diabetes']\n",
            "\n",
            "Column: DeafOrHardOfHearing (object)\n",
            "--- Percentage of NaNs: 3.413619863242893\n",
            "--- Unique values:\n",
            " ['No' 'Yes' nan]\n",
            "\n",
            "Column: BlindOrVisionDifficulty (object)\n",
            "--- Percentage of NaNs: 3.62547106892549\n",
            "--- Unique values:\n",
            " ['No' 'Yes' nan]\n",
            "\n",
            "Column: DifficultyConcentrating (object)\n",
            "--- Percentage of NaNs: 4.183484375396644\n",
            "--- Unique values:\n",
            " ['No' 'Yes' nan]\n",
            "\n",
            "Column: DifficultyWalking (object)\n",
            "--- Percentage of NaNs: 4.119328999383831\n",
            "--- Unique values:\n",
            " ['Yes' 'No' nan]\n",
            "\n",
            "Column: DifficultyDressingBathing (object)\n",
            "--- Percentage of NaNs: 4.079174195692358\n",
            "--- Unique values:\n",
            " ['No' nan 'Yes']\n",
            "\n",
            "Column: DifficultyErrands (object)\n",
            "--- Percentage of NaNs: 4.4770298368653405\n",
            "--- Unique values:\n",
            " ['No' 'Yes' nan]\n",
            "\n",
            "Column: SmokerStatus (object)\n",
            "--- Percentage of NaNs: 5.322126912257138\n",
            "--- Unique values:\n",
            " ['Never smoked' 'Former smoker' 'Current smoker - now smokes every day'\n",
            " nan 'Current smoker - now smokes some days']\n",
            "\n",
            "Column: ECigaretteUsage (object)\n",
            "--- Percentage of NaNs: 5.365743336956497\n",
            "--- Unique values:\n",
            " ['Never used e-cigarettes in my entire life' 'Not at all (right now)' nan\n",
            " 'Use them some days' 'Use them every day']\n",
            "\n",
            "Column: ChestScan (object)\n",
            "--- Percentage of NaNs: 94.65894955956642\n",
            "--- Unique values:\n",
            " [nan 'Yes' 'No']\n",
            "\n",
            "Column: RaceEthnicityCategory (object)\n",
            "--- Percentage of NaNs: 2.2085142030309957\n",
            "--- Unique values:\n",
            " ['White only, Non-Hispanic' 'Black only, Non-Hispanic' nan\n",
            " 'Other race only, Non-Hispanic' 'Multiracial, Non-Hispanic' 'Hispanic']\n",
            "\n",
            "Column: AgeCategory (object)\n",
            "--- Percentage of NaNs: 1.7951966546894582\n",
            "--- Unique values:\n",
            " ['Age 80 or older' 'Age 75 to 79' 'Age 60 to 64' 'Age 55 to 59'\n",
            " 'Age 65 to 69' 'Age 70 to 74' 'Age 45 to 49' 'Age 35 to 39'\n",
            " 'Age 40 to 44' 'Age 50 to 54' 'Age 25 to 29' 'Age 18 to 24' nan\n",
            " 'Age 30 to 34']\n",
            "\n",
            "Column: HeightInMeters (float64)\n",
            "--- Summary statistics:\n",
            " count    411182.000000\n",
            "mean          1.702533\n",
            "std           0.107442\n",
            "min           0.910000\n",
            "25%           1.630000\n",
            "50%           1.700000\n",
            "75%           1.780000\n",
            "max           2.410000\n",
            "Name: HeightInMeters, dtype: float64\n",
            "\n",
            "Column: WeightInKilograms (float64)\n",
            "--- Summary statistics:\n",
            " count    399172.000000\n",
            "mean         82.886462\n",
            "std          21.338946\n",
            "min          22.680000\n",
            "25%          68.040000\n",
            "50%          80.290000\n",
            "75%          94.350000\n",
            "max         284.000000\n",
            "Name: WeightInKilograms, dtype: float64\n",
            "\n",
            "Column: BMI (float64)\n",
            "--- Summary statistics:\n",
            " count    392788.000000\n",
            "mean         28.479288\n",
            "std           6.541975\n",
            "min          12.020000\n",
            "25%          24.100000\n",
            "50%          27.400000\n",
            "75%          31.620000\n",
            "max          99.840000\n",
            "Name: BMI, dtype: float64\n",
            "\n",
            "Column: AlcoholDrinkers (object)\n",
            "--- Percentage of NaNs: 6.9093955317396025\n",
            "--- Unique values:\n",
            " ['No' 'Yes' nan]\n",
            "\n",
            "Column: HIVTesting (object)\n",
            "--- Percentage of NaNs: 11.616277003528545\n",
            "--- Unique values:\n",
            " ['No' 'Yes' nan]\n",
            "\n",
            "Column: FluVaxLast12 (object)\n",
            "--- Percentage of NaNs: 7.227403114997358\n",
            "--- Unique values:\n",
            " ['No' 'Yes' nan]\n",
            "\n",
            "Column: PneumoVaxEver (object)\n",
            "--- Percentage of NaNs: 14.511807589257897\n",
            "--- Unique values:\n",
            " ['No' 'Yes' nan]\n",
            "\n",
            "Column: TetanusLast10Tdap (object)\n",
            "--- Percentage of NaNs: 97.30455110852644\n",
            "--- Unique values:\n",
            " [nan 'Yes, received tetanus shot but not sure what type'\n",
            " 'No, did not receive any tetanus shot in the past 10 years'\n",
            " 'Yes, received tetanus shot, but not Tdap' 'Yes, received Tdap']\n",
            "\n",
            "Column: CovidPos (object)\n",
            "--- Percentage of NaNs: 7.868033776190048\n",
            "--- Unique values:\n",
            " ['No' 'Yes' nan]\n"
          ]
        }
      ],
      "source": [
        "describe_df(heart_copy_df)"
      ]
    },
    {
      "cell_type": "code",
      "execution_count": 20,
      "metadata": {},
      "outputs": [],
      "source": [
        "heart_copy_df.to_csv(FINAL_FILE_WITH_NANS_PATH, index=False)"
      ]
    },
    {
      "cell_type": "markdown",
      "metadata": {},
      "source": [
        "---"
      ]
    },
    {
      "cell_type": "code",
      "execution_count": 21,
      "metadata": {},
      "outputs": [],
      "source": [
        "heart_df = pd.read_csv(FINAL_FILE_WITH_NANS_PATH)"
      ]
    },
    {
      "cell_type": "code",
      "execution_count": 22,
      "metadata": {
        "id": "SCjC997-viL7"
      },
      "outputs": [
        {
          "name": "stdout",
          "output_type": "stream",
          "text": [
            "<class 'pandas.core.frame.DataFrame'>\n",
            "RangeIndex: 433323 entries, 0 to 433322\n",
            "Data columns (total 39 columns):\n",
            " #   Column                     Non-Null Count   Dtype  \n",
            "---  ------                     --------------   -----  \n",
            " 0   State                      433323 non-null  object \n",
            " 1   Sex                        433323 non-null  object \n",
            " 2   GeneralHealth              432061 non-null  object \n",
            " 3   PhysicalHealthDays         422538 non-null  float64\n",
            " 4   MentalHealthDays           425215 non-null  float64\n",
            " 5   LastCheckupTime            424795 non-null  object \n",
            " 6   PhysicalActivities         432072 non-null  object \n",
            " 7   HighCholesterol            378239 non-null  object \n",
            " 8   HighBloodPressure          431404 non-null  object \n",
            " 9   HadHeartAttack             430755 non-null  object \n",
            " 10  HadAngina                  429092 non-null  object \n",
            " 11  HadStroke                  431849 non-null  object \n",
            " 12  HadAsthma                  431622 non-null  object \n",
            " 13  HadSkinCancer              430393 non-null  object \n",
            " 14  HadCOPD                    431257 non-null  object \n",
            " 15  HadDepressiveDisorder      430736 non-null  object \n",
            " 16  HadKidneyDisease           431431 non-null  object \n",
            " 17  HadArthritis               430763 non-null  object \n",
            " 18  HadDiabetes                432339 non-null  object \n",
            " 19  DeafOrHardOfHearing        418531 non-null  object \n",
            " 20  BlindOrVisionDifficulty    417613 non-null  object \n",
            " 21  DifficultyConcentrating    415195 non-null  object \n",
            " 22  DifficultyWalking          415473 non-null  object \n",
            " 23  DifficultyDressingBathing  415647 non-null  object \n",
            " 24  DifficultyErrands          413923 non-null  object \n",
            " 25  SmokerStatus               410261 non-null  object \n",
            " 26  ECigaretteUsage            410072 non-null  object \n",
            " 27  ChestScan                  23144 non-null   object \n",
            " 28  RaceEthnicityCategory      423753 non-null  object \n",
            " 29  AgeCategory                425544 non-null  object \n",
            " 30  HeightInMeters             411182 non-null  float64\n",
            " 31  WeightInKilograms          399172 non-null  float64\n",
            " 32  BMI                        392788 non-null  float64\n",
            " 33  AlcoholDrinkers            403383 non-null  object \n",
            " 34  HIVTesting                 382987 non-null  object \n",
            " 35  FluVaxLast12               402005 non-null  object \n",
            " 36  PneumoVaxEver              370440 non-null  object \n",
            " 37  TetanusLast10Tdap          11680 non-null   object \n",
            " 38  CovidPos                   399229 non-null  object \n",
            "dtypes: float64(5), object(34)\n",
            "memory usage: 128.9+ MB\n"
          ]
        }
      ],
      "source": [
        "heart_df.info()"
      ]
    },
    {
      "cell_type": "code",
      "execution_count": 23,
      "metadata": {
        "id": "PZgM0gXEvt4C"
      },
      "outputs": [
        {
          "data": {
            "text/plain": [
              "<Axes: title={'center': 'Number of  Heartattacks'}, xlabel='HadHeartAttack', ylabel='count'>"
            ]
          },
          "execution_count": 23,
          "metadata": {},
          "output_type": "execute_result"
        },
        {
          "data": {
            "image/png": "[encoded data removed]",
            "text/plain": [
              "<Figure size 500x500 with 1 Axes>"
            ]
          },
          "metadata": {},
          "output_type": "display_data"
        }
      ],
      "source": [
        "plt.figure(figsize=(5,5))\n",
        "plt.title('Number of  Heartattacks')\n",
        "sns.countplot(data=heart_df, x=heart_df['HadHeartAttack'], color='skyblue', edgecolor='black')"
      ]
    },
    {
      "cell_type": "code",
      "execution_count": 24,
      "metadata": {
        "id": "TbvRQ9S_01vi"
      },
      "outputs": [
        {
          "data": {
            "application/vnd.microsoft.datawrangler.viewer.v0+json": {
              "columns": [
                {
                  "name": "index",
                  "rawType": "int64",
                  "type": "integer"
                },
                {
                  "name": "State",
                  "rawType": "object",
                  "type": "string"
                },
                {
                  "name": "Sex",
                  "rawType": "object",
                  "type": "string"
                },
                {
                  "name": "GeneralHealth",
                  "rawType": "object",
                  "type": "string"
                },
                {
                  "name": "PhysicalHealthDays",
                  "rawType": "float64",
                  "type": "float"
                },
                {
                  "name": "MentalHealthDays",
                  "rawType": "float64",
                  "type": "float"
                },
                {
                  "name": "LastCheckupTime",
                  "rawType": "object",
                  "type": "string"
                },
                {
                  "name": "PhysicalActivities",
                  "rawType": "object",
                  "type": "string"
                },
                {
                  "name": "HighCholesterol",
                  "rawType": "object",
                  "type": "string"
                },
                {
                  "name": "HighBloodPressure",
                  "rawType": "object",
                  "type": "string"
                },
                {
                  "name": "HadHeartAttack",
                  "rawType": "object",
                  "type": "string"
                },
                {
                  "name": "HadAngina",
                  "rawType": "object",
                  "type": "string"
                },
                {
                  "name": "HadStroke",
                  "rawType": "object",
                  "type": "string"
                },
                {
                  "name": "HadAsthma",
                  "rawType": "object",
                  "type": "string"
                },
                {
                  "name": "HadSkinCancer",
                  "rawType": "object",
                  "type": "string"
                },
                {
                  "name": "HadCOPD",
                  "rawType": "object",
                  "type": "string"
                },
                {
                  "name": "HadDepressiveDisorder",
                  "rawType": "object",
                  "type": "string"
                },
                {
                  "name": "HadKidneyDisease",
                  "rawType": "object",
                  "type": "string"
                },
                {
                  "name": "HadArthritis",
                  "rawType": "object",
                  "type": "string"
                },
                {
                  "name": "HadDiabetes",
                  "rawType": "object",
                  "type": "string"
                },
                {
                  "name": "DeafOrHardOfHearing",
                  "rawType": "object",
                  "type": "unknown"
                },
                {
                  "name": "BlindOrVisionDifficulty",
                  "rawType": "object",
                  "type": "string"
                },
                {
                  "name": "DifficultyConcentrating",
                  "rawType": "object",
                  "type": "string"
                },
                {
                  "name": "DifficultyWalking",
                  "rawType": "object",
                  "type": "string"
                },
                {
                  "name": "DifficultyDressingBathing",
                  "rawType": "object",
                  "type": "string"
                },
                {
                  "name": "DifficultyErrands",
                  "rawType": "object",
                  "type": "string"
                },
                {
                  "name": "SmokerStatus",
                  "rawType": "object",
                  "type": "string"
                },
                {
                  "name": "ECigaretteUsage",
                  "rawType": "object",
                  "type": "string"
                },
                {
                  "name": "ChestScan",
                  "rawType": "object",
                  "type": "unknown"
                },
                {
                  "name": "RaceEthnicityCategory",
                  "rawType": "object",
                  "type": "string"
                },
                {
                  "name": "AgeCategory",
                  "rawType": "object",
                  "type": "string"
                },
                {
                  "name": "HeightInMeters",
                  "rawType": "float64",
                  "type": "float"
                },
                {
                  "name": "WeightInKilograms",
                  "rawType": "float64",
                  "type": "float"
                },
                {
                  "name": "BMI",
                  "rawType": "float64",
                  "type": "float"
                },
                {
                  "name": "AlcoholDrinkers",
                  "rawType": "object",
                  "type": "string"
                },
                {
                  "name": "HIVTesting",
                  "rawType": "object",
                  "type": "string"
                },
                {
                  "name": "FluVaxLast12",
                  "rawType": "object",
                  "type": "string"
                },
                {
                  "name": "PneumoVaxEver",
                  "rawType": "object",
                  "type": "string"
                },
                {
                  "name": "TetanusLast10Tdap",
                  "rawType": "object",
                  "type": "unknown"
                },
                {
                  "name": "CovidPos",
                  "rawType": "object",
                  "type": "string"
                }
              ],
              "conversionMethod": "pd.DataFrame",
              "ref": "43e9fa42-7f3c-4d80-b3b1-641310d4a456",
              "rows": [
                [
                  "0",
                  "Alabama",
                  "Female",
                  "Very good",
                  "0.0",
                  "0.0",
                  "Within past 2 years (1 year but less than 2 years ago)",
                  "No",
                  "No",
                  "Yes",
                  "No",
                  "No",
                  "No",
                  "No",
                  "No",
                  "No",
                  "No",
                  "No",
                  "No",
                  "Yes",
                  "No",
                  "No",
                  "No",
                  "Yes",
                  "No",
                  "No",
                  "Never smoked",
                  "Never used e-cigarettes in my entire life",
                  null,
                  "White only, Non-Hispanic",
                  "Age 80 or older",
                  "1.6",
                  "78.02",
                  "30.47",
                  "No",
                  "No",
                  "No",
                  "No",
                  null,
                  "No"
                ],
                [
                  "1",
                  "Alabama",
                  "Female",
                  "Very good",
                  "0.0",
                  "0.0",
                  "Within past 2 years (1 year but less than 2 years ago)",
                  "Yes",
                  "Yes",
                  "Yes",
                  "No",
                  "No",
                  "No",
                  "No",
                  "No",
                  "No",
                  "Yes",
                  "No",
                  "Yes",
                  "No",
                  "Yes",
                  "No",
                  "No",
                  "No",
                  "No",
                  "No",
                  "Never smoked",
                  "Never used e-cigarettes in my entire life",
                  null,
                  "White only, Non-Hispanic",
                  "Age 80 or older",
                  "1.45",
                  "59.87",
                  "28.56",
                  "No",
                  "No",
                  "Yes",
                  "Yes",
                  null,
                  "No"
                ],
                [
                  "2",
                  "Alabama",
                  "Female",
                  "Fair",
                  "6.0",
                  "2.0",
                  "Within past year (anytime less than 12 months ago)",
                  "Yes",
                  "Yes",
                  "Yes",
                  "No",
                  "No",
                  "No",
                  "Yes",
                  "No",
                  "No",
                  "No",
                  "No",
                  "Yes",
                  "No",
                  null,
                  "Yes",
                  "Yes",
                  "Yes",
                  "No",
                  "No",
                  "Former smoker",
                  "Never used e-cigarettes in my entire life",
                  null,
                  "Black only, Non-Hispanic",
                  "Age 80 or older",
                  "1.63",
                  "58.97",
                  "22.31",
                  "No",
                  "No",
                  "Yes",
                  "Yes",
                  null,
                  "No"
                ],
                [
                  "3",
                  "Alabama",
                  "Female",
                  "Very good",
                  "2.0",
                  "0.0",
                  "Within past 5 years (2 years but less than 5 years ago)",
                  "Yes",
                  "No",
                  "No",
                  "No",
                  "No",
                  "No",
                  "No",
                  "Yes",
                  "No",
                  "Yes",
                  "No",
                  "Yes",
                  "No",
                  "No",
                  "No",
                  "No",
                  "Yes",
                  "No",
                  "No",
                  "Never smoked",
                  "Never used e-cigarettes in my entire life",
                  null,
                  "White only, Non-Hispanic",
                  "Age 75 to 79",
                  "1.68",
                  "77.11",
                  "27.44",
                  "No",
                  "Yes",
                  "Yes",
                  "Yes",
                  null,
                  "No"
                ],
                [
                  "4",
                  "Alabama",
                  "Female",
                  "Fair",
                  "0.0",
                  "0.0",
                  "Within past year (anytime less than 12 months ago)",
                  "Yes",
                  "No",
                  "Yes",
                  "No",
                  "No",
                  "No",
                  "No",
                  "No",
                  "No",
                  "Yes",
                  "No",
                  "Yes",
                  "Yes",
                  "No",
                  "No",
                  "Yes",
                  "Yes",
                  "No",
                  "Yes",
                  "Never smoked",
                  "Never used e-cigarettes in my entire life",
                  null,
                  "White only, Non-Hispanic",
                  "Age 75 to 79",
                  "1.73",
                  "77.11",
                  "25.85",
                  "Yes",
                  "No",
                  "No",
                  "Yes",
                  null,
                  "No"
                ]
              ],
              "shape": {
                "columns": 39,
                "rows": 5
              }
            },
            "text/html": [
              "<div>\n",
              "<style scoped>\n",
              "    .dataframe tbody tr th:only-of-type {\n",
              "        vertical-align: middle;\n",
              "    }\n",
              "\n",
              "    .dataframe tbody tr th {\n",
              "        vertical-align: top;\n",
              "    }\n",
              "\n",
              "    .dataframe thead th {\n",
              "        text-align: right;\n",
              "    }\n",
              "</style>\n",
              "<table border=\"1\" class=\"dataframe\">\n",
              "  <thead>\n",
              "    <tr style=\"text-align: right;\">\n",
              "      <th></th>\n",
              "      <th>State</th>\n",
              "      <th>Sex</th>\n",
              "      <th>GeneralHealth</th>\n",
              "      <th>PhysicalHealthDays</th>\n",
              "      <th>MentalHealthDays</th>\n",
              "      <th>LastCheckupTime</th>\n",
              "      <th>PhysicalActivities</th>\n",
              "      <th>HighCholesterol</th>\n",
              "      <th>HighBloodPressure</th>\n",
              "      <th>HadHeartAttack</th>\n",
              "      <th>...</th>\n",
              "      <th>AgeCategory</th>\n",
              "      <th>HeightInMeters</th>\n",
              "      <th>WeightInKilograms</th>\n",
              "      <th>BMI</th>\n",
              "      <th>AlcoholDrinkers</th>\n",
              "      <th>HIVTesting</th>\n",
              "      <th>FluVaxLast12</th>\n",
              "      <th>PneumoVaxEver</th>\n",
              "      <th>TetanusLast10Tdap</th>\n",
              "      <th>CovidPos</th>\n",
              "    </tr>\n",
              "  </thead>\n",
              "  <tbody>\n",
              "    <tr>\n",
              "      <th>0</th>\n",
              "      <td>Alabama</td>\n",
              "      <td>Female</td>\n",
              "      <td>Very good</td>\n",
              "      <td>0.0</td>\n",
              "      <td>0.0</td>\n",
              "      <td>Within past 2 years (1 year but less than 2 ye...</td>\n",
              "      <td>No</td>\n",
              "      <td>No</td>\n",
              "      <td>Yes</td>\n",
              "      <td>No</td>\n",
              "      <td>...</td>\n",
              "      <td>Age 80 or older</td>\n",
              "      <td>1.60</td>\n",
              "      <td>78.02</td>\n",
              "      <td>30.47</td>\n",
              "      <td>No</td>\n",
              "      <td>No</td>\n",
              "      <td>No</td>\n",
              "      <td>No</td>\n",
              "      <td>NaN</td>\n",
              "      <td>No</td>\n",
              "    </tr>\n",
              "    <tr>\n",
              "      <th>1</th>\n",
              "      <td>Alabama</td>\n",
              "      <td>Female</td>\n",
              "      <td>Very good</td>\n",
              "      <td>0.0</td>\n",
              "      <td>0.0</td>\n",
              "      <td>Within past 2 years (1 year but less than 2 ye...</td>\n",
              "      <td>Yes</td>\n",
              "      <td>Yes</td>\n",
              "      <td>Yes</td>\n",
              "      <td>No</td>\n",
              "      <td>...</td>\n",
              "      <td>Age 80 or older</td>\n",
              "      <td>1.45</td>\n",
              "      <td>59.87</td>\n",
              "      <td>28.56</td>\n",
              "      <td>No</td>\n",
              "      <td>No</td>\n",
              "      <td>Yes</td>\n",
              "      <td>Yes</td>\n",
              "      <td>NaN</td>\n",
              "      <td>No</td>\n",
              "    </tr>\n",
              "    <tr>\n",
              "      <th>2</th>\n",
              "      <td>Alabama</td>\n",
              "      <td>Female</td>\n",
              "      <td>Fair</td>\n",
              "      <td>6.0</td>\n",
              "      <td>2.0</td>\n",
              "      <td>Within past year (anytime less than 12 months ...</td>\n",
              "      <td>Yes</td>\n",
              "      <td>Yes</td>\n",
              "      <td>Yes</td>\n",
              "      <td>No</td>\n",
              "      <td>...</td>\n",
              "      <td>Age 80 or older</td>\n",
              "      <td>1.63</td>\n",
              "      <td>58.97</td>\n",
              "      <td>22.31</td>\n",
              "      <td>No</td>\n",
              "      <td>No</td>\n",
              "      <td>Yes</td>\n",
              "      <td>Yes</td>\n",
              "      <td>NaN</td>\n",
              "      <td>No</td>\n",
              "    </tr>\n",
              "    <tr>\n",
              "      <th>3</th>\n",
              "      <td>Alabama</td>\n",
              "      <td>Female</td>\n",
              "      <td>Very good</td>\n",
              "      <td>2.0</td>\n",
              "      <td>0.0</td>\n",
              "      <td>Within past 5 years (2 years but less than 5 y...</td>\n",
              "      <td>Yes</td>\n",
              "      <td>No</td>\n",
              "      <td>No</td>\n",
              "      <td>No</td>\n",
              "      <td>...</td>\n",
              "      <td>Age 75 to 79</td>\n",
              "      <td>1.68</td>\n",
              "      <td>77.11</td>\n",
              "      <td>27.44</td>\n",
              "      <td>No</td>\n",
              "      <td>Yes</td>\n",
              "      <td>Yes</td>\n",
              "      <td>Yes</td>\n",
              "      <td>NaN</td>\n",
              "      <td>No</td>\n",
              "    </tr>\n",
              "    <tr>\n",
              "      <th>4</th>\n",
              "      <td>Alabama</td>\n",
              "      <td>Female</td>\n",
              "      <td>Fair</td>\n",
              "      <td>0.0</td>\n",
              "      <td>0.0</td>\n",
              "      <td>Within past year (anytime less than 12 months ...</td>\n",
              "      <td>Yes</td>\n",
              "      <td>No</td>\n",
              "      <td>Yes</td>\n",
              "      <td>No</td>\n",
              "      <td>...</td>\n",
              "      <td>Age 75 to 79</td>\n",
              "      <td>1.73</td>\n",
              "      <td>77.11</td>\n",
              "      <td>25.85</td>\n",
              "      <td>Yes</td>\n",
              "      <td>No</td>\n",
              "      <td>No</td>\n",
              "      <td>Yes</td>\n",
              "      <td>NaN</td>\n",
              "      <td>No</td>\n",
              "    </tr>\n",
              "  </tbody>\n",
              "</table>\n",
              "<p>5 rows × 39 columns</p>\n",
              "</div>"
            ],
            "text/plain": [
              "     State     Sex GeneralHealth  PhysicalHealthDays  MentalHealthDays  \\\n",
              "0  Alabama  Female     Very good                 0.0               0.0   \n",
              "1  Alabama  Female     Very good                 0.0               0.0   \n",
              "2  Alabama  Female          Fair                 6.0               2.0   \n",
              "3  Alabama  Female     Very good                 2.0               0.0   \n",
              "4  Alabama  Female          Fair                 0.0               0.0   \n",
              "\n",
              "                                     LastCheckupTime PhysicalActivities  \\\n",
              "0  Within past 2 years (1 year but less than 2 ye...                 No   \n",
              "1  Within past 2 years (1 year but less than 2 ye...                Yes   \n",
              "2  Within past year (anytime less than 12 months ...                Yes   \n",
              "3  Within past 5 years (2 years but less than 5 y...                Yes   \n",
              "4  Within past year (anytime less than 12 months ...                Yes   \n",
              "\n",
              "  HighCholesterol HighBloodPressure HadHeartAttack  ...      AgeCategory  \\\n",
              "0              No               Yes             No  ...  Age 80 or older   \n",
              "1             Yes               Yes             No  ...  Age 80 or older   \n",
              "2             Yes               Yes             No  ...  Age 80 or older   \n",
              "3              No                No             No  ...     Age 75 to 79   \n",
              "4              No               Yes             No  ...     Age 75 to 79   \n",
              "\n",
              "  HeightInMeters WeightInKilograms    BMI AlcoholDrinkers HIVTesting  \\\n",
              "0           1.60             78.02  30.47              No         No   \n",
              "1           1.45             59.87  28.56              No         No   \n",
              "2           1.63             58.97  22.31              No         No   \n",
              "3           1.68             77.11  27.44              No        Yes   \n",
              "4           1.73             77.11  25.85             Yes         No   \n",
              "\n",
              "  FluVaxLast12 PneumoVaxEver TetanusLast10Tdap CovidPos  \n",
              "0           No            No               NaN       No  \n",
              "1          Yes           Yes               NaN       No  \n",
              "2          Yes           Yes               NaN       No  \n",
              "3          Yes           Yes               NaN       No  \n",
              "4           No           Yes               NaN       No  \n",
              "\n",
              "[5 rows x 39 columns]"
            ]
          },
          "execution_count": 24,
          "metadata": {},
          "output_type": "execute_result"
        }
      ],
      "source": [
        "heart_df.head()"
      ]
    },
    {
      "cell_type": "code",
      "execution_count": 25,
      "metadata": {
        "id": "S25jLurA6Q-S"
      },
      "outputs": [],
      "source": [
        "heart_df = heart_df.drop(columns=['TetanusLast10Tdap', 'ChestScan'])"
      ]
    },
    {
      "cell_type": "code",
      "execution_count": 26,
      "metadata": {},
      "outputs": [
        {
          "name": "stdout",
          "output_type": "stream",
          "text": [
            "<class 'pandas.core.frame.DataFrame'>\n",
            "RangeIndex: 433323 entries, 0 to 433322\n",
            "Data columns (total 37 columns):\n",
            " #   Column                     Non-Null Count   Dtype  \n",
            "---  ------                     --------------   -----  \n",
            " 0   State                      433323 non-null  object \n",
            " 1   Sex                        433323 non-null  object \n",
            " 2   GeneralHealth              432061 non-null  object \n",
            " 3   PhysicalHealthDays         422538 non-null  float64\n",
            " 4   MentalHealthDays           425215 non-null  float64\n",
            " 5   LastCheckupTime            424795 non-null  object \n",
            " 6   PhysicalActivities         432072 non-null  object \n",
            " 7   HighCholesterol            378239 non-null  object \n",
            " 8   HighBloodPressure          431404 non-null  object \n",
            " 9   HadHeartAttack             430755 non-null  object \n",
            " 10  HadAngina                  429092 non-null  object \n",
            " 11  HadStroke                  431849 non-null  object \n",
            " 12  HadAsthma                  431622 non-null  object \n",
            " 13  HadSkinCancer              430393 non-null  object \n",
            " 14  HadCOPD                    431257 non-null  object \n",
            " 15  HadDepressiveDisorder      430736 non-null  object \n",
            " 16  HadKidneyDisease           431431 non-null  object \n",
            " 17  HadArthritis               430763 non-null  object \n",
            " 18  HadDiabetes                432339 non-null  object \n",
            " 19  DeafOrHardOfHearing        418531 non-null  object \n",
            " 20  BlindOrVisionDifficulty    417613 non-null  object \n",
            " 21  DifficultyConcentrating    415195 non-null  object \n",
            " 22  DifficultyWalking          415473 non-null  object \n",
            " 23  DifficultyDressingBathing  415647 non-null  object \n",
            " 24  DifficultyErrands          413923 non-null  object \n",
            " 25  SmokerStatus               410261 non-null  object \n",
            " 26  ECigaretteUsage            410072 non-null  object \n",
            " 27  RaceEthnicityCategory      423753 non-null  object \n",
            " 28  AgeCategory                425544 non-null  object \n",
            " 29  HeightInMeters             411182 non-null  float64\n",
            " 30  WeightInKilograms          399172 non-null  float64\n",
            " 31  BMI                        392788 non-null  float64\n",
            " 32  AlcoholDrinkers            403383 non-null  object \n",
            " 33  HIVTesting                 382987 non-null  object \n",
            " 34  FluVaxLast12               402005 non-null  object \n",
            " 35  PneumoVaxEver              370440 non-null  object \n",
            " 36  CovidPos                   399229 non-null  object \n",
            "dtypes: float64(5), object(32)\n",
            "memory usage: 122.3+ MB\n"
          ]
        }
      ],
      "source": [
        "heart_df.info()"
      ]
    },
    {
      "cell_type": "code",
      "execution_count": 27,
      "metadata": {},
      "outputs": [],
      "source": [
        "heart_df.to_csv(FINAL_FILE_WITH_NANS_PATH, index=False)"
      ]
    },
    {
      "cell_type": "code",
      "execution_count": 28,
      "metadata": {},
      "outputs": [],
      "source": [
        "heart_df.dropna().to_csv(FINAL_FILE_NO_NANS_PATH, index=False)"
      ]
    },
    {
      "cell_type": "markdown",
      "metadata": {
        "id": "Y5iPbuCUpidi"
      },
      "source": [
        "\n",
        "\n",
        "---\n",
        "\n"
      ]
    }
  ],
  "metadata": {
    "accelerator": "GPU",
    "colab": {
      "gpuType": "T4",
      "provenance": []
    },
    "kernelspec": {
      "display_name": "base",
      "language": "python",
      "name": "python3"
    },
    "language_info": {
      "codemirror_mode": {
        "name": "ipython",
        "version": 3
      },
      "file_extension": ".py",
      "mimetype": "text/x-python",
      "name": "python",
      "nbconvert_exporter": "python",
      "pygments_lexer": "ipython3",
      "version": "3.12.7"
    }
  },
  "nbformat": 4,
  "nbformat_minor": 0
}
